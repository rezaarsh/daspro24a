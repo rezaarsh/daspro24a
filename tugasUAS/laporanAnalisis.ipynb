{
 "cells": [
  {
   "cell_type": "markdown",
   "id": "6e51a0dc-2a30-4287-b25a-57f15e33f14a",
   "metadata": {},
   "source": [
    "<h1>Laporan Analisis Data</h1>"
   ]
  },
  {
   "cell_type": "markdown",
   "id": "d1f64275-7bd7-40bb-b5d8-5d8bcc1860b4",
   "metadata": {},
   "source": [
    "<h2>1. Latar Belakang</h2>\n",
    "<p>Pengeluaran untuk Research & Development (R&D) dalam dunia startup seringkali dianggap sebagai salah satu faktor utama yang memengaruhi keberhasilan perusahaan. Analisis ini bertujuan untuk mengetahui apakah terdapat hubungan antara R&D Spend dengan Profit (keuntungan) yang diperoleh startup.</p>"
   ]
  },
  {
   "cell_type": "markdown",
   "id": "19a3cef1-d17c-47c1-9a0c-dc7fa1894c60",
   "metadata": {},
   "source": [
    "<h2>2. Metode Analisis</h2>\n",
    "<p>Dataset yang digunakan adalah \"50 Startups\" dari Kaggle. Analisis dilakukan dengan bahasa pemrograman Python menggunakan library pandas, seaborn, matplotlib, dan scikit-learn.</p>\n",
    "<p>Langkah-langkah:</p>\n",
    "<ul>\n",
    "    <li>Melakukan analisis statistik deskriptif</li>\n",
    "    <li>Melakukan regresi linier sederhana antara R&D Spend (variabel independen) dan Profit (variabel dependen)</li>\n",
    "    <li>Membuat visualisasi garis regresi</li>\n",
    "</ul>"
   ]
  },
  {
   "cell_type": "markdown",
   "id": "4198a713-ee4e-4388-9b15-2ad8b834d8c5",
   "metadata": {},
   "source": [
    "<h2>3. Hasil dan Interpretasi</h2>\n",
    "<p>Hasil regresi menunjukkan :</p>\n",
    "<ul>\n",
    "    <li>Koefisien regresi : <b>0.8542913709388089</b></li>\n",
    "    <li>Intercept         : <b>49032.899141252135</b></li>\n",
    "    <li>R-squared (R2)    : <b>0.9465353160804392</b></li>\n",
    "</ul>\n",
    "<p>Persamaan regresinya adalah:<br><b>Profit = 0.8543 × R&D Spend + 49032.90</b></p>\n",
    "<p>Dengan R2 sebesar 94.65%, dapat disimpulkan bahwa sekitar 94.65% variasi Profit dapat dijelaskan oleh R&D Spend</p>"
   ]
  },
  {
   "cell_type": "markdown",
   "id": "808890b9-19b0-4cf4-b680-c1d5dd1cc74e",
   "metadata": {},
   "source": [
    "<h2>4. Kesimpulan dan Rekomendasi</h2>\n",
    "<p>Analisis ini menunjukkan bahwa terdapat hubungan positif yang sangat kuat antara R&D Spend dengan Profit startup. Hal ini mengindikasikan bahwa investasi dalam R&D kemungkinan besar akan meningkatkan keuntungan perusahaan.</p>\n",
    "<p>Disarankan agar perusahaan tetap memberikan perhatian khusus pada alokasi dana R&D sebagai strategi jangka panjang untuk pertumbuhan bisnis.</p>"
   ]
  }
 ],
 "metadata": {
  "kernelspec": {
   "display_name": "Python [conda env:base] *",
   "language": "python",
   "name": "conda-base-py"
  },
  "language_info": {
   "codemirror_mode": {
    "name": "ipython",
    "version": 3
   },
   "file_extension": ".py",
   "mimetype": "text/x-python",
   "name": "python",
   "nbconvert_exporter": "python",
   "pygments_lexer": "ipython3",
   "version": "3.12.7"
  }
 },
 "nbformat": 4,
 "nbformat_minor": 5
}
