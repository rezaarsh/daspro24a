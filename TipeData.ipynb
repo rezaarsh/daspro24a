{
 "cells": [
  {
   "cell_type": "code",
   "execution_count": 1,
   "id": "d7772061-0169-4faa-b930-30896e318116",
   "metadata": {},
   "outputs": [
    {
     "name": "stdout",
     "output_type": "stream",
     "text": [
      "Nama:  Reza\n",
      "Umur:  19\n",
      "Alamat:  Jl. Cibolang\n",
      "Nilai Pemrograman:  80.5\n",
      "Status Menikah:  False\n"
     ]
    }
   ],
   "source": [
    "name = \"Reza\"\n",
    "age = 19\n",
    "address,province = \"Jl. Cibolang\",\"7413412\"\n",
    "scorePython = 80.5\n",
    "isMarried = False\n",
    "\n",
    "print(\"Nama: \",name)\n",
    "print(\"Umur: \",age)\n",
    "print(\"Alamat: \",address)\n",
    "print(\"Nilai Pemrograman: \",scorePython)\n",
    "print(\"Status Menikah: \",isMarried)"
   ]
  },
  {
   "cell_type": "code",
   "execution_count": 3,
   "id": "9c472ed4-57e4-4851-afe6-032681695254",
   "metadata": {},
   "outputs": [
    {
     "name": "stdout",
     "output_type": "stream",
     "text": [
      "Tipe Data <name> <class 'str'>\n",
      "Tipe Data <age> <class 'int'>\n",
      "Tipe Data <address> <class 'str'>\n",
      "Tipe Data <province> <class 'str'>\n",
      "Tipe Data <scorePython> <class 'float'>\n",
      "Tipe Data <isMarried> <class 'bool'>\n"
     ]
    }
   ],
   "source": [
    "print(\"Tipe Data <name>\",type(name))\n",
    "print(\"Tipe Data <age>\",type(age))\n",
    "print(\"Tipe Data <address>\",type(address))\n",
    "print(\"Tipe Data <province>\",type(province))\n",
    "print(\"Tipe Data <scorePython>\",type(scorePython))\n",
    "print(\"Tipe Data <isMarried>\",type(isMarried))"
   ]
  },
  {
   "cell_type": "code",
   "execution_count": 19,
   "id": "f2446e0d-db3c-4b4a-8026-4d60e87ad41b",
   "metadata": {},
   "outputs": [
    {
     "name": "stdout",
     "output_type": "stream",
     "text": [
      "7413412-7413412.0-True\n",
      "19-19.0-True\n",
      "19-19.0-True\n",
      "False-0-0.0\n"
     ]
    }
   ],
   "source": [
    "# Casting atau Konversi Tipe Data\n",
    "# konversi dari String ke (int,float,bool)\n",
    "\n",
    "strToInt = int(province)\n",
    "strToFloat = float(province)\n",
    "strToBool = bool(province)\n",
    "print(strToInt,strToFloat,strToBool, sep=\"-\")\n",
    "\n",
    "# konversi dari int\n",
    "intToStr = str(age)\n",
    "intToFloat = float(age)\n",
    "intToBool = bool(age)\n",
    "print(intToStr,intToFloat,intToBool,sep=\"-\")\n",
    "\n",
    "# konversi dari float\n",
    "floatToStr = str(age)\n",
    "floatToInt = float(age)\n",
    "floatToBool = bool(age)\n",
    "print(intToStr,intToFloat,intToBool,sep=\"-\")\n",
    "\n",
    "# konversi dari bool\n",
    "boolToStr = str(isMarried)\n",
    "boolToInt = int(isMarried)\n",
    "boolToFloat = float(isMarried)\n",
    "print(boolToStr,boolToInt,boolToFloat,sep=\"-\")"
   ]
  },
  {
   "cell_type": "code",
   "execution_count": 27,
   "id": "c3974ec2-00d9-428b-b44f-14d1b7ce9325",
   "metadata": {},
   "outputs": [
    {
     "name": "stdout",
     "output_type": "stream",
     "text": [
      "B\n",
      "g\n"
     ]
    }
   ],
   "source": [
    "city = \"Bandung\"\n",
    "lenCity = len(city)\n",
    "print(city[0])\n",
    "print(city[lenCity-1])"
   ]
  },
  {
   "cell_type": "code",
   "execution_count": 35,
   "id": "fd81b80d-4346-4eef-bf22-9b161f00d4f1",
   "metadata": {},
   "outputs": [
    {
     "name": "stdout",
     "output_type": "stream",
     "text": [
      "Nilai Desimal:  200\n",
      "Nilai Desimal dari 0xff:  255\n",
      "Nilai Desimal dari 0b1010:  10\n",
      "Nilai Desimal dari 0o377:  255\n",
      "=======================\n",
      "Nilai biner dari: 200 0b11001000\n",
      "Nilai octal dari: 200 0o310\n",
      "Nilai hexa dari: 200 0xc8\n"
     ]
    }
   ],
   "source": [
    "desimal = 200\n",
    "hexa = 0xff\n",
    "biner = 0b1010\n",
    "octal = 0o377\n",
    "\n",
    "print(\"Nilai Desimal: \",desimal)\n",
    "print(\"Nilai Desimal dari 0xff: \",hexa)\n",
    "print(\"Nilai Desimal dari 0b1010: \",biner)\n",
    "print(\"Nilai Desimal dari 0o377: \",octal)\n",
    "\n",
    "print(\"=======================\")\n",
    "print(\"Nilai biner dari:\",desimal, bin(desimal))\n",
    "print(\"Nilai octal dari:\",desimal, oct(desimal))\n",
    "print(\"Nilai hexa dari:\",desimal, hex(desimal))\n"
   ]
  },
  {
   "cell_type": "code",
   "execution_count": 79,
   "id": "9d98a4d4-6338-499c-a857-47d70fcd8c3d",
   "metadata": {},
   "outputs": [
    {
     "name": "stdout",
     "output_type": "stream",
     "text": [
      "['Sukabumi', 'bandung', 'Bogor', 'Jakarta']\n",
      "Sukabumi\n",
      "Jakarta\n",
      "['Sukabumi', 'Medan', 'Bogor', 'Jakarta']\n",
      "J\n",
      "{'name': 'Dedi', 'address': {'street': 'Cisaat', 'number': 21, 'province': 'west java'}, 'age': 23, 'isMarried': True}\n",
      "west java\n",
      "{'name': 'Dedi', 'address': {'street': 'Cisaat', 'number': 21, 'province': 'west java'}, 'hobbies': ['Basket', 'Football'], 'age': 23, 'isMarried': True}\n",
      "Football\n",
      "23\n"
     ]
    }
   ],
   "source": [
    "# Tipe data collection\n",
    "\n",
    "# List\n",
    "cities = [\"Sukabumi\",\"bandung\",\"Bogor\",\"Jakarta\"]\n",
    "print(cities)\n",
    "print(cities[0])\n",
    "print(cities[len(cities)-1])\n",
    "cities[1] = \"Medan\"\n",
    "print(cities)\n",
    "print(cities[len(cities)-1][0])\n",
    "\n",
    "# Tuple\n",
    "names = (\"Andi\",\"Budi\",\"Caca\")\n",
    "# names[0] = \"Budi\" --> akan menyebabkan error, karena tuple adalah immutable\n",
    "\n",
    "# Dictionary\n",
    "studentData = {\n",
    "    \"name\" : \"Dedi\",\n",
    "    \"address\" : {\n",
    "        \"street\" : \"Cisaat\",\n",
    "        \"number\" : 21,\n",
    "        \"province\" : \"west java\"\n",
    "    },\n",
    "    \"age\" : 23,\n",
    "    \"isMarried\" : True\n",
    "}\n",
    "\n",
    "# List of dictionary\n",
    "listStudent = [\n",
    "        {\n",
    "        \"name\" : \"Dedi\",\n",
    "        \"address\" : {\n",
    "            \"street\" : \"Cisaat\",\n",
    "            \"number\" : 21,\n",
    "            \"province\" : \"west java\"\n",
    "        },\n",
    "        \"hobbies\" : [\"Basket\",\"Football\"],\n",
    "        \"age\" : 23,\n",
    "        \"isMarried\" : True\n",
    "    },\n",
    "        {\n",
    "        \"name\" : \"Upin\",\n",
    "        \"address\" : {\n",
    "            \"street\" : \"Kp.Durian Runtuh\",\n",
    "            \"number\" : 21,\n",
    "            \"province\" : \"Kuala lumpur\"\n",
    "        },\n",
    "        \"age\" : 23,\n",
    "        \"isMarried\" : False\n",
    "    }\n",
    "]\n",
    "\n",
    "print(studentData)\n",
    "print(studentData[\"address\"][\"province\"])\n",
    "print(listStudent[0])\n",
    "print(listStudent[0][\"hobbies\"][1])\n",
    "print(listStudent[0][\"age\"]) # 23 - umur Dedi"
   ]
  },
  {
   "cell_type": "code",
   "execution_count": 95,
   "id": "1cb03c58-13ca-4071-acb3-55eb0cfb77ef",
   "metadata": {},
   "outputs": [
    {
     "name": "stdout",
     "output_type": "stream",
     "text": [
      "{'name': 'Dika', 'nilai': 80}\n",
      "{'Buah': 'Apel', 'Harga': '10000'}\n",
      "{'name': 'Upin', 'nilai': 10}\n",
      "{'SKPI': 'Sertifikat', 'Harga': '500000'}\n",
      "{'name': 'Adi', 'age': 20, 'address': 'Bandung'}\n"
     ]
    }
   ],
   "source": [
    "# Casting Dictionary\n",
    "\n",
    "list_tuple = [(\"name\",\"Dika\"),(\"nilai\",80)]\n",
    "dictStudent = dict(list_tuple)\n",
    "print(dictStudent)\n",
    "\n",
    "list_list = [[\"Buah\",\"Apel\"],[\"Harga\",\"10000\"]]\n",
    "dictBuah = dict(list_list)\n",
    "print(dictBuah)\n",
    "\n",
    "tuple_tuple = ((\"name\",\"Upin\"),(\"nilai\",10))\n",
    "dictName = dict(tuple_tuple)\n",
    "print(dictName)\n",
    "\n",
    "tuple_list = ([\"SKPI\",\"Sertifikat\"],[\"Harga\",\"500000\"])\n",
    "dictSkpi = dict(tuple_list)\n",
    "print(dictSkpi)\n",
    "\n",
    "keys = [\"name\",\"age\",\"address\"]\n",
    "values = [\"Adi\",20,\"Bandung\"]\n",
    "\n",
    "dictData = dict(zip(keys,values))\n",
    "print(dictData)"
   ]
  }
 ],
 "metadata": {
  "kernelspec": {
   "display_name": "Python [conda env:base] *",
   "language": "python",
   "name": "conda-base-py"
  },
  "language_info": {
   "codemirror_mode": {
    "name": "ipython",
    "version": 3
   },
   "file_extension": ".py",
   "mimetype": "text/x-python",
   "name": "python",
   "nbconvert_exporter": "python",
   "pygments_lexer": "ipython3",
   "version": "3.12.7"
  }
 },
 "nbformat": 4,
 "nbformat_minor": 5
}
