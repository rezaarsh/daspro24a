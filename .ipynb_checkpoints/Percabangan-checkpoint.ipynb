{
 "cells": [
  {
   "cell_type": "markdown",
   "id": "5854a90d-e435-44ae-9e31-3bc520e011b1",
   "metadata": {
    "id": "5854a90d-e435-44ae-9e31-3bc520e011b1"
   },
   "source": [
    "Buatlah program yang meminta pengguna memasukkan usia seseorang, lalu tentukan apakah dia <br>\n",
    "anak-anak (0-12 tahun), remaja (13-17 tahun), dewasa (18-59 tahun), atau lansia (60 tahun ke atas)."
   ]
  },
  {
   "cell_type": "code",
   "execution_count": 17,
   "id": "75a2fdcd-1ef1-45e4-9d79-c6a7cb708a18",
   "metadata": {
    "id": "75a2fdcd-1ef1-45e4-9d79-c6a7cb708a18"
   },
   "outputs": [
    {
     "name": "stdin",
     "output_type": "stream",
     "text": [
      "Masukan usia: 100\n"
     ]
    },
    {
     "name": "stdout",
     "output_type": "stream",
     "text": [
      "lansia usia 60 tahun ke atas\n"
     ]
    }
   ],
   "source": [
    "usia = int(input(\"Masukan usia:\"))\n",
    "\n",
    "if usia <= 12:\n",
    "    print(\"anak-anak usia 0 - 12 tahun\")\n",
    "elif usia <= 17:\n",
    "    print(\"remaja usia 13 - 17 tahun\")\n",
    "elif usia <= 59:\n",
    "    print(\"dewasa usia 18 - 59 tahun\")\n",
    "else:\n",
    "    print(\"lansia usia 60 tahun ke atas\")"
   ]
  },
  {
   "cell_type": "markdown",
   "id": "68c95835-e4ad-4bd0-89ca-168200893cf7",
   "metadata": {
    "id": "68c95835-e4ad-4bd0-89ca-168200893cf7"
   },
   "source": [
    "Sebuah taman hiburan memiliki aturan harga tiket berdasarkan usia:\n",
    "<ol>\n",
    "<li>Anak-anak (0-12 tahun): Rp 10.000</li>\n",
    "<li>Remaja (13-17 tahun): Rp 15.000</li>\n",
    "<li>Dewasa (18-59 tahun): Rp 25.000</li>\n",
    "<li>Lansia (60 tahun ke atas): Gratis</li>\n",
    "</ol>\n",
    "Buat program untuk menentukan harga tiket berdasarkan usia yang dimasukkan pengguna dan total harga yang harus dibayar, jika terdapat 3 input seperti berikut ini"
   ]
  },
  {
   "cell_type": "code",
   "execution_count": 25,
   "id": "66ee699f-8355-48e0-939a-dcc73ba4425b",
   "metadata": {
    "id": "66ee699f-8355-48e0-939a-dcc73ba4425b"
   },
   "outputs": [
    {
     "name": "stdin",
     "output_type": "stream",
     "text": [
      "Isikan Umur Tiket 1: 0\n",
      "Isikan Umur Tiket 2:  13\n",
      "Isikan Umur Tiket 3:  18\n"
     ]
    },
    {
     "name": "stdout",
     "output_type": "stream",
     "text": [
      "\n",
      "Harga tiket 1 adalah Rp 10000\n",
      "Harga tiket 2 adalah Rp 15000\n",
      "Harga tiket 3 adalah Rp 25000\n",
      "\n",
      "Total harga yang harus dibayar adalah Rp 50000\n"
     ]
    }
   ],
   "source": [
    "tiket1 = int(input(\"Isikan Umur Tiket 1:\"))\n",
    "tiket2 = int(input(\"Isikan Umur Tiket 2: \"))\n",
    "tiket3 = int(input(\"Isikan Umur Tiket 3: \"))\n",
    "\n",
    "# Tiket 1\n",
    "if tiket1 <= 12:\n",
    "    hargaTiket1 = 10000\n",
    "    print(f\"\\nHarga tiket 1 adalah Rp {hargaTiket1}\")\n",
    "elif tiket1 <= 17:\n",
    "    hargaTiket1 = 15000\n",
    "    print(f\"\\nHarga tiket 1 adalah Rp {hargaTiket1}\")\n",
    "elif tiket1 <= 59:\n",
    "    hargaTiket1 = 25000\n",
    "    print(f\"\\nHarga tiket 1 adalah Rp {hargaTiket1}\")\n",
    "else:\n",
    "    hargaTiket1 = 0\n",
    "    print(f\"\\nHarga tiket 1 adalah Rp {hargaTiket1}\")\n",
    "\n",
    "# Tiket 2\n",
    "if tiket2 <= 12:\n",
    "    hargaTiket2 = 10000\n",
    "    print(f\"Harga tiket 2 adalah Rp {hargaTiket2}\")\n",
    "elif tiket2 <= 17:\n",
    "    hargaTiket2 = 15000\n",
    "    print(f\"Harga tiket 2 adalah Rp {hargaTiket2}\")\n",
    "elif tiket2 <= 59:\n",
    "    hargaTiket2 = 25000\n",
    "    print(f\"Harga tiket 2 adalah Rp {hargaTiket2}\")\n",
    "else:\n",
    "    hargaTiket2 = 0\n",
    "    print(f\"Harga tiket 2 adalah Rp {hargaTiket2}\")\n",
    "\n",
    "# Tiket 3\n",
    "if tiket3 <= 12:\n",
    "    hargaTiket3 = 10000\n",
    "    print(f\"Harga tiket 3 adalah Rp {hargaTiket3}\")\n",
    "elif tiket3 <= 17:\n",
    "    hargaTiket3 = 15000\n",
    "    print(f\"Harga tiket 3 adalah Rp {hargaTiket3}\")\n",
    "elif tiket3 <= 59:\n",
    "    hargaTiket3 = 25000\n",
    "    print(f\"Harga tiket 3 adalah Rp {hargaTiket3}\")\n",
    "else:\n",
    "    hargaTiket3 = 0\n",
    "    print(f\"Harga tiket 3 adalah Rp {hargaTiket3}\")\n",
    "\n",
    "totalHarga = hargaTiket1 + hargaTiket2 + hargaTiket3\n",
    "print(f\"\\nTotal harga yang harus dibayar adalah Rp {totalHarga}\")"
   ]
  },
  {
   "cell_type": "markdown",
   "id": "82eac646-d930-42f5-a253-03f84c32f943",
   "metadata": {
    "id": "82eac646-d930-42f5-a253-03f84c32f943"
   },
   "source": [
    "Sebuah restoran memiliki diskon khusus:\n",
    "Anak-anak (0-12 tahun) diskon 50%\n",
    "Lansia (60 tahun ke atas) diskon 30%\n",
    "Selain itu, tidak ada diskon\n",
    "Buat program untuk menghitung harga yang harus dibayar setelah diskon diberikan."
   ]
  },
  {
   "cell_type": "code",
   "execution_count": 27,
   "id": "feb31fca-fce6-4e5f-a25f-8752e7a0033b",
   "metadata": {
    "id": "feb31fca-fce6-4e5f-a25f-8752e7a0033b"
   },
   "outputs": [
    {
     "name": "stdin",
     "output_type": "stream",
     "text": [
      "Masukkan harga makanan:  10000\n",
      "Masukkan usia:  12\n"
     ]
    },
    {
     "name": "stdout",
     "output_type": "stream",
     "text": [
      "Harga makanan sebelum diskon: Rp 10000\n",
      "Anda mendapat diskon sebesar 50.0%\n",
      "Harga yang harus dibayar setelah mendapatkan diskon 50.0% adalah Rp 5000.0\n"
     ]
    }
   ],
   "source": [
    "hargaMakanan = int(input(\"Masukkan harga makanan: \"))\n",
    "usia = int(input(\"Masukkan usia: \"))\n",
    "\n",
    "if usia <= 12:\n",
    "    diskon = 0.50 # Anak-anak (0-12 tahun) diskon 50%\n",
    "elif usia >= 60:\n",
    "    diskon = 0.30 # Lansia (60 tahun ke atas) diskon 30%\n",
    "else:\n",
    "    diskon = 0 # Usia lainnya tidak ada diskon\n",
    "\n",
    "hargaSetelahDiskon = hargaMakanan * diskon\n",
    "hargaTotal = hargaMakanan - hargaSetelahDiskon\n",
    "\n",
    "print(f\"Harga makanan sebelum diskon: Rp {hargaMakanan}\")\n",
    "print(f\"Anda mendapat diskon sebesar {diskon * 100}%\")\n",
    "print(f\"Harga yang harus dibayar setelah mendapatkan diskon {diskon * 100}% adalah Rp {hargaTotal}\")"
   ]
  },
  {
   "cell_type": "markdown",
   "id": "aee8bab3-9bf1-4732-97e1-7abb32ce7184",
   "metadata": {
    "id": "aee8bab3-9bf1-4732-97e1-7abb32ce7184"
   },
   "source": [
    "Program beasiswa:\n",
    "<ol>\n",
    "<li>Jika nilai rapor ≥ 90 dan penghasilan orang tua < Rp 5.000.000 → Beasiswa Penuh</li>\n",
    "<li>Jika nilai rapor ≥ 85 dan penghasilan orang tua < Rp 8.000.000 → Beasiswa 50%</li>\n",
    "<li>Jika tidak memenuhi syarat di atas → Tidak mendapatkan beasiswa</li>\n",
    "</ol>"
   ]
  },
  {
   "cell_type": "code",
   "execution_count": 33,
   "id": "55a9ec4f-531b-4326-bca3-e0d19b4be47d",
   "metadata": {
    "id": "55a9ec4f-531b-4326-bca3-e0d19b4be47d"
   },
   "outputs": [
    {
     "name": "stdin",
     "output_type": "stream",
     "text": [
      "Masukan nilai rapor: 90\n",
      "Masukan penghasilan orang tua: 4000000\n"
     ]
    },
    {
     "name": "stdout",
     "output_type": "stream",
     "text": [
      "Beasiswa Penuh\n"
     ]
    }
   ],
   "source": [
    "nilaiRapor = int(input(\"Masukan nilai rapor:\"))\n",
    "penghasilanOrTu = int(input(\"Masukan penghasilan orang tua:\"))\n",
    "\n",
    "if nilaiRapor >= 90 and penghasilanOrTu < 5000000:\n",
    "    print(\"Beasiswa Penuh\")\n",
    "elif nilaiRapor >= 85 and penghasilanOrTu < 8000000:\n",
    "    print(\"Beasiswa 50%\")\n",
    "else:\n",
    "    print(\"Tidak mendapatkan beasiswa\")"
   ]
  },
  {
   "cell_type": "markdown",
   "id": "57ea9062-e1af-4650-8eab-a47a01a9d04f",
   "metadata": {
    "id": "57ea9062-e1af-4650-8eab-a47a01a9d04f"
   },
   "source": [
    "Suatu aplikasi streaming memiliki batasan usia:\n",
    "<ol>\n",
    "<li>Film Semua Umur: Bisa ditonton oleh siapa saja</li>\n",
    "<li>Film Remaja: Hanya untuk usia ≥ 13 tahun</li>\n",
    "<li>Film Dewasa: Hanya untuk usia ≥ 18 tahun</li>\n",
    "</ol>\n",
    "Buat program yang meminta input usia dan kategori film, lalu tentukan apakah seseorang boleh menonton film tersebut atau tidak."
   ]
  },
  {
   "cell_type": "code",
   "execution_count": 37,
   "id": "2c00f464-3390-4c94-9ec2-4b63c55b871b",
   "metadata": {
    "id": "2c00f464-3390-4c94-9ec2-4b63c55b871b"
   },
   "outputs": [
    {
     "name": "stdin",
     "output_type": "stream",
     "text": [
      "Masukan usia: 10\n"
     ]
    },
    {
     "name": "stdout",
     "output_type": "stream",
     "text": [
      "Kategori Film: \n",
      "- Semua Umur \n",
      "- Remaja \n",
      "- Dewasa\n"
     ]
    },
    {
     "name": "stdin",
     "output_type": "stream",
     "text": [
      "Masukan kategori film: Semua Umur\n"
     ]
    },
    {
     "name": "stdout",
     "output_type": "stream",
     "text": [
      "Boleh menonton film\n"
     ]
    }
   ],
   "source": [
    "usia = int(input(\"Masukan usia:\"))\n",
    "print(f\"Kategori Film: \\n- Semua Umur \\n- Remaja \\n- Dewasa\")\n",
    "film = input(\"Masukan kategori film:\")\n",
    "\n",
    "if usia >= 13 and film == \"Remaja\":\n",
    "    print(\"Boleh menonton film\")\n",
    "elif usia >= 18 and film == \"Dewasa\":\n",
    "    print(\"Boleh menonton film\")\n",
    "elif usia >= 0 and film == \"Semua Umur\":\n",
    "    print(\"Boleh menonton film\")\n",
    "else:\n",
    "    print(\"Tidak boleh menonton film\")"
   ]
  },
  {
   "cell_type": "markdown",
   "id": "7b87c04c-85f0-4dc1-a14a-f67d8b2c4e6a",
   "metadata": {
    "id": "7b87c04c-85f0-4dc1-a14a-f67d8b2c4e6a"
   },
   "source": [
    "Sebuah toko memberikan diskon berdasarkan jumlah pembelian:\n",
    "<ol>\n",
    "<li>Jika total belanja ≥ Rp 500.000 → Diskon 20%</li>\n",
    "<li>Jika total belanja ≥ Rp 250.000 → Diskon 10%</li>\n",
    "<li>Jika total belanja < Rp 250.000 → Tidak ada diskon</li>\n",
    "</ol>\n",
    "Hitung harga akhir setelah diskon."
   ]
  },
  {
   "cell_type": "code",
   "execution_count": 39,
   "id": "966923a0-c87b-4559-8fc1-3090d448ad4a",
   "metadata": {
    "id": "966923a0-c87b-4559-8fc1-3090d448ad4a"
   },
   "outputs": [
    {
     "name": "stdin",
     "output_type": "stream",
     "text": [
      "Masukan total belanja: 500000\n"
     ]
    },
    {
     "name": "stdout",
     "output_type": "stream",
     "text": [
      "\n",
      "Total belanja sebelum diskon: Rp 500000\n",
      "\n",
      "Anda mendapat diskon sebesar 20.0%\n",
      "\n",
      "Harga akhir setelah mendapatkan diskon 20.0% adalah Rp 400000.0\n"
     ]
    }
   ],
   "source": [
    "totalBelanja = int(input(\"Masukan total belanja:\"))\n",
    "\n",
    "if totalBelanja >= 500000:\n",
    "    diskon = 0.20\n",
    "elif totalBelanja >= 250000:\n",
    "    diskon = 0.10\n",
    "else:\n",
    "    diskon = 0\n",
    "\n",
    "totalSetelahDiskon = totalBelanja * diskon\n",
    "hargaAkhir = totalBelanja - totalSetelahDiskon\n",
    "\n",
    "print(f\"\\nTotal belanja sebelum diskon: Rp {totalBelanja}\")\n",
    "print(f\"\\nAnda mendapat diskon sebesar {diskon * 100}%\")\n",
    "print(f\"\\nHarga akhir setelah mendapatkan diskon {diskon * 100}% adalah Rp {hargaAkhir}\")"
   ]
  },
  {
   "cell_type": "markdown",
   "id": "88e22629-48cc-4917-86e7-2bf4df863182",
   "metadata": {
    "id": "88e22629-48cc-4917-86e7-2bf4df863182"
   },
   "source": [
    "Program parkir:\n",
    "<ol>\n",
    "<li>Mobil: Rp 5.000 per jam</li>\n",
    "<li>Motor: Rp 2.000 per jam</li>\n",
    "<li>Jika parkir lebih dari 5 jam, ada biaya tambahan Rp 10.000</li>\n",
    "</ol>\n",
    "Hitung total biaya parkir berdasarkan jenis kendaraan dan durasi parkir."
   ]
  },
  {
   "cell_type": "code",
   "execution_count": 43,
   "id": "b8f7b918-70a1-4a88-945f-406c4aafbec7",
   "metadata": {
    "id": "b8f7b918-70a1-4a88-945f-406c4aafbec7"
   },
   "outputs": [
    {
     "name": "stdout",
     "output_type": "stream",
     "text": [
      "Program parkir: \n",
      "- Mobil \n",
      "- Motor\n",
      "\n"
     ]
    },
    {
     "name": "stdin",
     "output_type": "stream",
     "text": [
      "Masukan kategori kendaraan: Mobil\n"
     ]
    },
    {
     "name": "stdout",
     "output_type": "stream",
     "text": [
      "\n",
      "Program parkir: \n",
      "Mobil: Rp 5.000 per jam \n",
      "Motor: Rp 2.000 per jam \n",
      "Jika parkir lebih dari 5 jam, ada biaya tambahan Rp 10.000 !!!\n",
      "\n"
     ]
    },
    {
     "name": "stdin",
     "output_type": "stream",
     "text": [
      "Masukan berapa jam anda parkir: 10\n"
     ]
    },
    {
     "name": "stdout",
     "output_type": "stream",
     "text": [
      "\n",
      "Karena parkir lebih dari 5 jam, ada biaya tambahan Rp 10.000\n",
      "\n",
      "Total biaya parkir adalah Rp 60000\n"
     ]
    }
   ],
   "source": [
    "print(f\"Program parkir: \\n- Mobil \\n- Motor\\n\")\n",
    "kendaraan = input(\"Masukan kategori kendaraan:\")\n",
    "\n",
    "print(f\"\\nProgram parkir: \\nMobil: Rp 5.000 per jam \\nMotor: Rp 2.000 per jam \\nJika parkir lebih dari 5 jam, ada biaya tambahan Rp 10.000 !!!\\n\")\n",
    "jamParkir = int(input(\"Masukan berapa jam anda parkir:\"))\n",
    "\n",
    "if kendaraan == \"Mobil\":\n",
    "    biayaPerJam = 5000\n",
    "elif kendaraan == \"Motor\":\n",
    "    biayaPerJam = 2000\n",
    "\n",
    "biaya = biayaPerJam * jamParkir\n",
    "if jamParkir > 5:\n",
    "    biaya += 10000\n",
    "    print(f\"\\nKarena parkir lebih dari 5 jam, ada biaya tambahan Rp 10.000\")\n",
    "\n",
    "print(f\"\\nTotal biaya parkir adalah Rp {biaya}\")"
   ]
  },
  {
   "cell_type": "markdown",
   "id": "2db1d34c-3f80-4f8c-aaf2-910c38c05414",
   "metadata": {
    "id": "2db1d34c-3f80-4f8c-aaf2-910c38c05414"
   },
   "source": [
    "Aplikasi transportasi online memiliki tarif sebagai berikut:\n",
    "<ol>\n",
    "<li>Jika jarak ≤ 5 km → Rp 5.000/km</li>\n",
    "<li>Jika jarak 6-10 km → Rp 4.000/km</li>\n",
    "<li>Jika jarak > 10 km → Rp 3.000/km</li>\n",
    "</ol>\n",
    "Hitung tarif perjalanan berdasarkan jarak yang dimasukkan pengguna.\n"
   ]
  },
  {
   "cell_type": "code",
   "execution_count": 45,
   "id": "5a5b719e-76f6-4f45-a8e4-07853113ce9e",
   "metadata": {
    "id": "5a5b719e-76f6-4f45-a8e4-07853113ce9e"
   },
   "outputs": [
    {
     "name": "stdin",
     "output_type": "stream",
     "text": [
      "Masukkan jarak perjalanan:  10\n"
     ]
    },
    {
     "name": "stdout",
     "output_type": "stream",
     "text": [
      "Tarif perjalanan untuk 10 km adalah: Rp 40000\n"
     ]
    }
   ],
   "source": [
    "jarak = int(input(\"Masukkan jarak perjalanan: \"))\n",
    "\n",
    "if jarak <= 5:\n",
    "    tarif_per_km = 5000\n",
    "elif jarak <= 10:\n",
    "    tarif_per_km = 4000\n",
    "else:\n",
    "    tarif_per_km = 3000\n",
    "\n",
    "totalTarif = tarif_per_km * jarak\n",
    "\n",
    "print(f\"Tarif perjalanan untuk {jarak} km adalah: Rp {totalTarif}\")"
   ]
  },
  {
   "cell_type": "markdown",
   "id": "d1cf7b61-e309-40ec-b1fd-4bc56550a10d",
   "metadata": {
    "id": "d1cf7b61-e309-40ec-b1fd-4bc56550a10d"
   },
   "source": [
    "Buatlah sebuah sistem penerimaan calon programmer yang akan menerima dua nilai ( nilai coding dan nilai interview). Untuk penilaian test coding skala penilaian yang diberikan dimulai dari 0 hingga 100 dengan sistem penilaian:\n",
    "<ol>\n",
    "<li>ketika seseorang mendapatkan nilai lebih dari 80 maka peserta tersebut akan mendapatkan hasil tes LOLOS</li>\n",
    "<li>ketika sesorang mendapatkan nilai diantara 60 hingga 80 maka peserta tersebut mendapatkan hasil tes DIPERTIMBANGKAN</li>\n",
    "<li>ketika seseorang mendapatkan nilai dibawah 60 maka peserta tersebut mendapatkan hasil tes GAGAL.</li>\n",
    "</ol>\n",
    "\n",
    "Sedangkan untuk penilaian interview adalah\n",
    "<ol>\n",
    "<li>ketika nilai yang diberikan kepada seseorang tersebut adalah \"A\" atau \"B\" maka peserta tersebut dianggap LOLOS interview</li>\n",
    "\n",
    "<li>selain kedua nilai tersebut maka peserta dianggap GAGAL tes interview.</li>\n",
    "</ol>\n",
    "\n",
    "Ketika calon programmer mendapatkan nilai coding LOLOS atau DIPERTIMBANGKAN dan juga LOLOS test interview maka tampilkanlah pesan \"Selamat Kamu Berhasil Menjadi Calon Programmer\". Jika tidak maka tampilkanlah pesan \"Maaf Kamu Belum Berhasil Menjadi Calon Programmer\""
   ]
  },
  {
   "cell_type": "code",
   "execution_count": 3,
   "id": "7aeb0f89-e957-4c0d-a29c-139fc269e1c0",
   "metadata": {
    "id": "7aeb0f89-e957-4c0d-a29c-139fc269e1c0"
   },
   "outputs": [
    {
     "name": "stdin",
     "output_type": "stream",
     "text": [
      "Masukkan nilai coding (0-100):  100\n",
      "Masukkan nilai interview (A/B/C/D/E):  A\n"
     ]
    },
    {
     "name": "stdout",
     "output_type": "stream",
     "text": [
      "Selamat Kamu Berhasil Menjadi Calon Programmer\n"
     ]
    }
   ],
   "source": [
    "nilaiCoding = int(input(\"Masukkan nilai coding (0-100): \"))\n",
    "\n",
    "nilaiInterview = input(\"Masukkan nilai interview (A/B/C/D/E): \")\n",
    "\n",
    "# Penilaian nilai coding\n",
    "if nilaiCoding > 80:\n",
    "    hasilCoding = \"LOLOS\"\n",
    "elif nilaiCoding >= 60:\n",
    "    hasilCoding = \"DIPERTIMBANGKAN\"\n",
    "else:\n",
    "    hasilCoding = \"GAGAL\"\n",
    "\n",
    "# Penilaian nilai interview\n",
    "if nilaiInterview == \"A\" or nilaiInterview == \"B\":\n",
    "    hasilInterview = \"LOLOS\"\n",
    "else:\n",
    "    hasilInterview = \"GAGAL\"\n",
    "\n",
    "# Menentukan kelulusan calon programmer\n",
    "if (hasilCoding == \"LOLOS\" or hasilCoding == \"DIPERTIMBANGKAN\") and hasilInterview == \"LOLOS\":\n",
    "    print(\"Selamat Kamu Berhasil Menjadi Calon Programmer\")\n",
    "else:\n",
    "    print(\"Maaf Kamu Belum Berhasil Menjadi Calon Programmer\")"
   ]
  },
  {
   "cell_type": "markdown",
   "id": "364647af-075b-4bc0-8c83-4c816415ff74",
   "metadata": {
    "id": "364647af-075b-4bc0-8c83-4c816415ff74"
   },
   "source": [
    "Sebuah klub sepak bola “PERSEGI FC” mempunyai aturan dalam memberikan nomor punggung bagi para pemainnya. Para pemain diperbolehkan mempunyai posisi lebih dari 1. Berikut adalah beberapa\n",
    "aturannya:\n",
    "<ol>\n",
    "<li>Untuk nomor punggung genap, digunakan untuk posisi “target attacker”</li>\n",
    "<li>Untuk nomor punggung genap antara 50 – 100, digunakan untuk pemain yang “berhak dipilih menjadi capten team”</li>\n",
    "<li>Untuk nomor punggung ganjil, digunakan untuk posisi “defender”</li>\n",
    "<li>Untuk nomor punggung ganjil lebih dari 90, digunakan untuk posisi “Playmaker”</li>\n",
    "<li>Untuk nomor punggung ganjil kelipatan dari 3 dan 5, digunakan untuk posisi “keeper”</li>\n",
    "</ol>\n",
    "Buatlah program untuk melakukan pengecekan sebuah nomor punggung dapat berfungsi sebagai posisi apa saja."
   ]
  },
  {
   "cell_type": "code",
   "execution_count": 11,
   "id": "2d1d5589-126b-44e3-9d9e-1bed865ff65c",
   "metadata": {
    "id": "2d1d5589-126b-44e3-9d9e-1bed865ff65c"
   },
   "outputs": [
    {
     "name": "stdin",
     "output_type": "stream",
     "text": [
      "Masukkan nomor punggung:  10\n"
     ]
    },
    {
     "name": "stdout",
     "output_type": "stream",
     "text": [
      "Target Attacker\n"
     ]
    }
   ],
   "source": [
    "nomorPunggung = int(input(\"Masukkan nomor punggung: \"))\n",
    "\n",
    "if nomorPunggung % 2 == 0:\n",
    "    posisi = \"Target Attacker\"\n",
    "    if nomorPunggung >= 50 and nomorPunggung <= 100:\n",
    "        posisi = \"Pemain ini berhak dipilih menjadi captain team\"\n",
    "else:\n",
    "    posisi = \"Defender\"\n",
    "    if nomorPunggung > 90:\n",
    "        posisi = \"Playmaker\"\n",
    "    if nomorPunggung % 3 == 0 and nomorPunggung % 5 == 0:\n",
    "        posisi = \"Keeper\"\n",
    "\n",
    "print(posisi)"
   ]
  }
 ],
 "metadata": {
  "colab": {
   "provenance": []
  },
  "kernelspec": {
   "display_name": "Python [conda env:base] *",
   "language": "python",
   "name": "conda-base-py"
  },
  "language_info": {
   "codemirror_mode": {
    "name": "ipython",
    "version": 3
   },
   "file_extension": ".py",
   "mimetype": "text/x-python",
   "name": "python",
   "nbconvert_exporter": "python",
   "pygments_lexer": "ipython3",
   "version": "3.12.7"
  }
 },
 "nbformat": 4,
 "nbformat_minor": 5
}
