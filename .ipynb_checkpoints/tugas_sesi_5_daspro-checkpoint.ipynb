{
 "cells": [
  {
   "cell_type": "code",
   "execution_count": 1,
   "id": "07ab3eee-12c3-469e-80d4-aa207869a516",
   "metadata": {},
   "outputs": [
    {
     "name": "stdin",
     "output_type": "stream",
     "text": [
      "Masukan nama lengkap: Reza Ariansah\n",
      "Masukan tempat lahir Sukabumi\n",
      "Masukan tanggal lahir 04 Januari 2006\n",
      "Masukan pekerjaan: Mahasiswa\n",
      "Masukan alamat: Kp.Cijambe\n",
      "Masukan jenis kelamin: Laki-laki\n",
      "Masukan alamat email: reza.ariansah_ti24@nusaputra.ac.id\n"
     ]
    },
    {
     "name": "stdout",
     "output_type": "stream",
     "text": [
      "\n",
      "========== Biodata Sederhana ==========\n",
      "\n",
      "Nama Lengkap             : Reza Ariansah\n",
      "Tempat dan Tanggal Lahir : Sukabumi, 04 Januari 2006\n",
      "Alamat                   : Kp.Cijambe\n",
      "Jenis Kelamin            : Laki-laki\n",
      "Alamat Email             : reza.ariansah_ti24@nusaputra.ac.id\n"
     ]
    }
   ],
   "source": [
    "# Jawaban Nomor 1\n",
    "\n",
    "nama = input(\"Masukan nama lengkap:\")\n",
    "tempat = input(\"Masukan tempat lahir\")\n",
    "tglLahir = input(\"Masukan tanggal lahir\")\n",
    "pekerjaan = input(\"Masukan pekerjaan:\")\n",
    "alamat = input(\"Masukan alamat:\")\n",
    "jnsKelamin = input(\"Masukan jenis kelamin:\")\n",
    "email = input(\"Masukan alamat email:\")\n",
    "\n",
    "print(\"\\n========== Biodata Sederhana ==========\\n\")\n",
    "print(\"Nama Lengkap             : {}\".format(nama))\n",
    "print(\"Tempat dan Tanggal Lahir : {}, {}\".format(tempat,tglLahir))\n",
    "print(\"Alamat                   : {}\".format(alamat))\n",
    "print(\"Jenis Kelamin            : {}\".format(jnsKelamin))\n",
    "print(\"Alamat Email             : {}\".format(email))"
   ]
  },
  {
   "cell_type": "code",
   "execution_count": 35,
   "id": "da39e8ea-924a-433c-8098-8ca0a55ee7c7",
   "metadata": {},
   "outputs": [
    {
     "name": "stdout",
     "output_type": "stream",
     "text": [
      "a. putra nusa\n",
      "b. NIVERSITAS NSA PTRA SKABMI\n",
      "c. SUKABUMI PUTRA NUSA UNIVERSITAS\n",
      "d. UNPS\n",
      "e. TAS SAPU BUMI\n"
     ]
    }
   ],
   "source": [
    "# Jawaban Nomor 2\n",
    "\n",
    "kalimat = \"UNIVERSITAS NUSA PUTRA SUKABUMI\"\n",
    "\n",
    "a = kalimat.split()\n",
    "print(f\"a. {a[2]} {a[1]}\".lower())\n",
    "\n",
    "b = kalimat.replace(\"U\",\"\")\n",
    "print(f\"b. {b}\")\n",
    "\n",
    "dibalik = a[::-1]\n",
    "c = \" \".join(dibalik)\n",
    "print(f\"c. {c}\")\n",
    "\n",
    "d = \"\"\n",
    "for kata in a:\n",
    "    d += kata[0]\n",
    "print(f\"d. {d}\")\n",
    "\n",
    "print(f\"e. {a[0][-3:]} {a[1][-2:]}{a[2][0:2]} {a[3][-4:]}\")"
   ]
  }
 ],
 "metadata": {
  "kernelspec": {
   "display_name": "Python [conda env:base] *",
   "language": "python",
   "name": "conda-base-py"
  },
  "language_info": {
   "codemirror_mode": {
    "name": "ipython",
    "version": 3
   },
   "file_extension": ".py",
   "mimetype": "text/x-python",
   "name": "python",
   "nbconvert_exporter": "python",
   "pygments_lexer": "ipython3",
   "version": "3.12.7"
  }
 },
 "nbformat": 4,
 "nbformat_minor": 5
}
