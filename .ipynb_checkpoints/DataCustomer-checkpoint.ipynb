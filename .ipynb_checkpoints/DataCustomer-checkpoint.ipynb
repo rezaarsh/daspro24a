{
 "cells": [
  {
   "cell_type": "markdown",
   "id": "b4567fc5-31ba-4e03-8856-42b7d3dbd2fb",
   "metadata": {},
   "source": [
    "<b>Project Data Customer</b><br>\n",
    "Buatlah contoh data customer sebanyak 1000 yang akan digunakan untuk prediksi !<br>\n",
    "<ol>\n",
    "    <li>Usia : 18 - 60</li>\n",
    "    <li>Gender : L/P -> L(1),P(0)</li>\n",
    "    <li>Transaksi per Bulan : 0-50</li>\n",
    "    <li>Kategori Pembayaran: Buruk, Sedang, Bagus</li>\n",
    "</ol>"
   ]
  },
  {
   "cell_type": "code",
   "execution_count": 78,
   "id": "aa1ad105-1dad-460f-be9a-3a3f691249d5",
   "metadata": {},
   "outputs": [
    {
     "name": "stdout",
     "output_type": "stream",
     "text": [
      "     Usia  Gender  TransaksiPerBulan Kategori Bayar\n",
      "0      45       1                 13         Sedang\n",
      "1      37       1                 15          Bagus\n",
      "2      36       1                 38         Sedang\n",
      "3      24       0                 23          Bagus\n",
      "4      37       1                 11          Buruk\n",
      "..    ...     ...                ...            ...\n",
      "995    19       1                 22         Sedang\n",
      "996    44       1                  7         Sedang\n",
      "997    56       1                 21         Sedang\n",
      "998    58       1                 42          Buruk\n",
      "999    21       0                 40          Buruk\n",
      "\n",
      "[1000 rows x 4 columns]\n",
      "<class 'pandas.core.frame.DataFrame'>\n",
      "RangeIndex: 1000 entries, 0 to 999\n",
      "Data columns (total 4 columns):\n",
      " #   Column             Non-Null Count  Dtype \n",
      "---  ------             --------------  ----- \n",
      " 0   Usia               1000 non-null   int32 \n",
      " 1   Gender             1000 non-null   int32 \n",
      " 2   TransaksiPerBulan  1000 non-null   int32 \n",
      " 3   Kategori Bayar     1000 non-null   object\n",
      "dtypes: int32(3), object(1)\n",
      "memory usage: 19.7+ KB\n",
      "None\n",
      "   Usia  Gender  TransaksiPerBulan Kategori Bayar\n",
      "0    45       1                 13         Sedang\n",
      "1    37       1                 15          Bagus\n",
      "2    36       1                 38         Sedang\n",
      "3    24       0                 23          Bagus\n",
      "4    37       1                 11          Buruk\n",
      "Usia customer termuda: 18\n",
      "Usia customer tertua: 60\n",
      "Jumlah customer laki-laki: 514.0\n",
      "Jumlah customer perempuan: 486.0\n",
      "Rata-rata transaksi per bulan: 24.449\n"
     ]
    }
   ],
   "source": [
    "import numpy as np\n",
    "import pandas as pd\n",
    "\n",
    "n_data = 1000\n",
    "\n",
    "usia = np.random.randint(18,61,size=n_data)\n",
    "gender = np.random.randint(0,2,size=n_data)\n",
    "transaksi = np.random.randint(0,51,size=n_data)\n",
    "kategori = np.random.choice(['Buruk','Sedang','Bagus'],size=n_data)\n",
    "\n",
    "df = pd.DataFrame({\n",
    "    'Usia' : usia,\n",
    "    'Gender' : gender,\n",
    "    'TransaksiPerBulan' : transaksi,\n",
    "    'Kategori Bayar' : kategori\n",
    "})\n",
    "\n",
    "print(df)\n",
    "print(df.info())\n",
    "print(df.head()) #mengetahui isi 5 baris pertama dari data\n",
    "print(f\"Usia customer termuda: {df.Usia.min()}\")\n",
    "print(f\"Usia customer tertua: {df.Usia.max()}\")\n",
    "jmlL = df[df['Gender']==1]\n",
    "print(f\"Jumlah customer laki-laki: {jmlL.size/4}\")\n",
    "jmlP = df[df['Gender']==0]\n",
    "print(f\"Jumlah customer perempuan: {jmlP.size/4}\")\n",
    "\n",
    "print(f\"Rata-rata transaksi per bulan: {df.TransaksiPerBulan.mean()}\")\n",
    "df.to_csv('dataCustomer.csv')"
   ]
  }
 ],
 "metadata": {
  "kernelspec": {
   "display_name": "Python [conda env:base] *",
   "language": "python",
   "name": "conda-base-py"
  },
  "language_info": {
   "codemirror_mode": {
    "name": "ipython",
    "version": 3
   },
   "file_extension": ".py",
   "mimetype": "text/x-python",
   "name": "python",
   "nbconvert_exporter": "python",
   "pygments_lexer": "ipython3",
   "version": "3.12.7"
  }
 },
 "nbformat": 4,
 "nbformat_minor": 5
}
