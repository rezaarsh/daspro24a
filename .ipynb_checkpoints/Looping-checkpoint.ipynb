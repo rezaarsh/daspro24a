{
 "cells": [
  {
   "cell_type": "code",
   "execution_count": 1,
   "id": "d4e69922-23b0-4178-bcff-3d3cf2d6efd0",
   "metadata": {},
   "outputs": [
    {
     "name": "stdout",
     "output_type": "stream",
     "text": [
      "Nama buah: Apple\n",
      "Nama buah: Banana\n",
      "Nama buah: Watermelon\n",
      "Looping sudah selesai\n"
     ]
    }
   ],
   "source": [
    "# Hackerrank\n",
    "# Looping python digunakan koleksi\n",
    "# Koleksi = string, list, set, tuple, dictionary\n",
    "# for variabel in koleksi\n",
    "\n",
    "fruits = [\"Apple\",\"Banana\",\"Watermelon\"]\n",
    "for fruit in fruits:\n",
    "    print(f\"Nama buah: {fruit}\")\n",
    "print(\"Looping sudah selesai\")"
   ]
  },
  {
   "cell_type": "code",
   "execution_count": 9,
   "id": "2b392a28-9015-4f2b-8d46-91f9eab69bee",
   "metadata": {},
   "outputs": [
    {
     "name": "stdout",
     "output_type": "stream",
     "text": [
      "0 : Jan\n",
      "1 : Feb\n",
      "3 : Apr\n",
      "4 : May\n",
      "5 : Jun\n",
      "Loop month sudah selesai\n",
      "\n",
      "0 : Mon\n",
      "1 : Tue\n",
      "2 : Wed\n",
      "Looping day sudah selesai\n"
     ]
    }
   ],
   "source": [
    "# Enumerate\n",
    "month = [\"Jan\",\"Feb\",\"Mar\",\"Apr\",\"May\",\"Jun\"]\n",
    "for i,m in enumerate(month):\n",
    "    if m == \"Mar\":\n",
    "        continue\n",
    "    print(f\"{i} : {m}\")\n",
    "print(\"Loop month sudah selesai\\n\")\n",
    "\n",
    "day = [\"Mon\",\"Tue\",\"Wed\",\"Thu\",\"Fri\",\"Sat\",\"Sun\"]\n",
    "for i,d in enumerate(day):\n",
    "    if d == \"Thu\":\n",
    "        break\n",
    "    print(f\"{i} : {d}\")\n",
    "print(\"Looping day sudah selesai\")"
   ]
  },
  {
   "cell_type": "code",
   "execution_count": 11,
   "id": "ca626700-f8b1-470a-8147-a6ca73669b49",
   "metadata": {},
   "outputs": [
    {
     "name": "stdin",
     "output_type": "stream",
     "text": [
      "Isikan nama anda: Reza\n"
     ]
    },
    {
     "name": "stdout",
     "output_type": "stream",
     "text": [
      "R\n",
      "e\n",
      "z\n",
      "a\n"
     ]
    }
   ],
   "source": [
    "# Looping digunakan untuk string\n",
    "name = input(\"Isikan nama anda:\")\n",
    "for n in name:\n",
    "    print(n)"
   ]
  },
  {
   "cell_type": "code",
   "execution_count": 13,
   "id": "0318cdae-3c7e-444f-9c62-ecd7410e5e72",
   "metadata": {},
   "outputs": [
    {
     "name": "stdout",
     "output_type": "stream",
     "text": [
      "Bahasa inggris makan : eat\n",
      "Bahasa inggris tidur : sleep\n",
      "Bahasa inggris minum : drink\n"
     ]
    }
   ],
   "source": [
    "# Looping untuk dictionary, data yang terdiri dari key, value\n",
    "indToEnglish = {\n",
    "   \"makan\" : \"eat\",\n",
    "    \"tidur\" : \"sleep\",\n",
    "    \"minum\" : \"drink\"\n",
    "}\n",
    "\n",
    "for key, value in indToEnglish.items():\n",
    "    print(f\"Bahasa inggris {key} : {value}\")\n",
    "    "
   ]
  },
  {
   "cell_type": "code",
   "execution_count": 27,
   "id": "cb6f1ab9-bff4-4989-8204-f4acb11f780f",
   "metadata": {},
   "outputs": [
    {
     "name": "stdout",
     "output_type": "stream",
     "text": [
      "Nilai i adalah 0\n",
      "Nilai i adalah 1\n",
      "Nilai i adalah 2\n",
      "Nilai i adalah 3\n",
      "Nilai i adalah 4\n",
      "=====================\n",
      "Nilai j adalah 5\n",
      "Nilai j adalah 6\n",
      "Nilai j adalah 7\n",
      "Nilai j adalah 8\n",
      "Nilai j adalah 9\n",
      "=====================\n",
      "Nilai k adalah 1\n",
      "Nilai k adalah 3\n",
      "Nilai k adalah 5\n",
      "Nilai k adalah 7\n",
      "Nilai k adalah 9\n",
      "=====================\n",
      "Nilai l adalah 10\n",
      "Nilai l adalah 9\n",
      "Nilai l adalah 8\n",
      "Nilai l adalah 7\n",
      "Nilai l adalah 6\n",
      "Nilai l adalah 5\n",
      "Nilai l adalah 4\n",
      "Nilai l adalah 3\n",
      "Nilai l adalah 2\n",
      "Nilai l adalah 1\n"
     ]
    }
   ],
   "source": [
    "# for menggunakan range\n",
    "for i in range(5):\n",
    "    print(f\"Nilai i adalah {i}\")\n",
    "\n",
    "print(\"=====================\")\n",
    "\n",
    "for j in range(5,10):\n",
    "    print(f\"Nilai j adalah {j}\")\n",
    "\n",
    "print(\"=====================\")\n",
    "\n",
    "for k in range(1,10,2): #2 adalah step\n",
    "    print(f\"Nilai k adalah {k}\")\n",
    "\n",
    "print(\"=====================\")\n",
    "\n",
    "for l in range(10,0,-1):\n",
    "    print(f\"Nilai l adalah {l}\")"
   ]
  },
  {
   "cell_type": "code",
   "execution_count": 29,
   "id": "656956ee-11dc-4251-a1b9-2c32d6ac3b38",
   "metadata": {},
   "outputs": [
    {
     "name": "stdout",
     "output_type": "stream",
     "text": [
      "[1, 4, 9, 16, 25, 36, 49, 64, 81, 100]\n"
     ]
    }
   ],
   "source": [
    "# For untuk list comprehension\n",
    "data = [1,2,3,4,5,6,7,8,9,10] #pangkat dari masing\" bilangan\n",
    "pangkat = [x**2 for x in data]\n",
    "print(pangkat)"
   ]
  }
 ],
 "metadata": {
  "kernelspec": {
   "display_name": "Python [conda env:base] *",
   "language": "python",
   "name": "conda-base-py"
  },
  "language_info": {
   "codemirror_mode": {
    "name": "ipython",
    "version": 3
   },
   "file_extension": ".py",
   "mimetype": "text/x-python",
   "name": "python",
   "nbconvert_exporter": "python",
   "pygments_lexer": "ipython3",
   "version": "3.12.7"
  }
 },
 "nbformat": 4,
 "nbformat_minor": 5
}
