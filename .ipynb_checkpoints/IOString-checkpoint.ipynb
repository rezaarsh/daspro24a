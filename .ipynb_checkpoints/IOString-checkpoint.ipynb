{
 "cells": [
  {
   "cell_type": "code",
   "execution_count": 9,
   "id": "5095a31b-d998-4e12-88d7-6c0afc704b46",
   "metadata": {},
   "outputs": [
    {
     "name": "stdin",
     "output_type": "stream",
     "text": [
      "Isikan nama Anda: Upin\n"
     ]
    },
    {
     "name": "stdout",
     "output_type": "stream",
     "text": [
      "Selamat datang Upin\n",
      "123Andi@Budi@Rudi\n"
     ]
    }
   ],
   "source": [
    "name = input(\"Isikan nama Anda:\")\n",
    "print(\"Selamat datang\",name) # menggabugkan variabel dengan string\n",
    "\n",
    "print(\"1\",end='') #mencetak disamping karakter\n",
    "print(\"2\",end='')\n",
    "print(\"3\",end='')\n",
    "\n",
    "#separator\n",
    "print(\"Andi\",\"Budi\",\"Rudi\",sep=\"@\")"
   ]
  },
  {
   "cell_type": "markdown",
   "id": "3e27c673-7e6d-42cb-8e5e-2bd2009b82e4",
   "metadata": {},
   "source": [
    "<h4>String Format</h4>"
   ]
  },
  {
   "cell_type": "code",
   "execution_count": 14,
   "id": "17511f27-53ed-4a2c-b033-97c825f14e4d",
   "metadata": {},
   "outputs": [
    {
     "name": "stdin",
     "output_type": "stream",
     "text": [
      "isikan blangan 1: 3\n",
      "isikan blangan 2: 4\n"
     ]
    },
    {
     "name": "stdout",
     "output_type": "stream",
     "text": [
      "Hasil penjumlahan 3 + 4 = 7\n",
      "Hasil penjumlahan 3 + 4 = 7\n"
     ]
    }
   ],
   "source": [
    "val1 = int(input(\"isikan blangan 1:\"))\n",
    "val2 = int(input(\"isikan blangan 2:\"))\n",
    "\n",
    "# Hasil penjumlahan 3 + 4 = 7\n",
    "print(\"Hasil penjumlahan\",val1,\"+\",val2,\"=\",val1+val2)\n",
    "#string format menbggunakan tanda {}\n",
    "print(\"Hasil penjumlahan {} + {} = {}\".format(val1,val2,val1+val2))"
   ]
  },
  {
   "cell_type": "markdown",
   "id": "eec1a1e2-696a-41d1-b2a7-a09356348b09",
   "metadata": {},
   "source": [
    "<h4>String format index</h4>"
   ]
  },
  {
   "cell_type": "code",
   "execution_count": 20,
   "id": "0b25b0d5-cde0-433f-9d53-511010f620c5",
   "metadata": {},
   "outputs": [
    {
     "name": "stdin",
     "output_type": "stream",
     "text": [
      "Isikan nama depan: upin\n",
      "Isikan nama tengah: ipin\n",
      "Isikan nama belakang: apin\n"
     ]
    },
    {
     "name": "stdout",
     "output_type": "stream",
     "text": [
      "Nama Anda: upin ipin apin\n",
      "Nama Anda: ipin upin apin\n",
      "Nama Anda: upin ipin apin\n"
     ]
    }
   ],
   "source": [
    "fName = input(\"Isikan nama depan:\")\n",
    "mName = input(\"Isikan nama tengah:\")\n",
    "lName = input(\"Isikan nama belakang:\")\n",
    "\n",
    "print(\"Nama Anda: {} {} {}\".format(fName,mName,lName))\n",
    "#menggunakan index\n",
    "print(\"Nama Anda: {1} {0} {2}\".format(fName,mName,lName))\n",
    "#menggunakan key\n",
    "print(\"Nama Anda: {depan} {tengah} {belakang}\".format(belakang=lName,depan=fName,tengah=mName))"
   ]
  },
  {
   "cell_type": "markdown",
   "id": "977c05aa-5742-4817-ba61-fecda03b708d",
   "metadata": {},
   "source": [
    "<h3>Slicing</h3><br>\n",
    "Mengambil string/karakter dan String berdasarkan indeks"
   ]
  },
  {
   "cell_type": "code",
   "execution_count": 32,
   "id": "8f9ba186-412c-4f89-8784-423a70a6f8cd",
   "metadata": {},
   "outputs": [
    {
     "name": "stdin",
     "output_type": "stream",
     "text": [
      "isikan nama kampus anda: nusaputri\n"
     ]
    },
    {
     "name": "stdout",
     "output_type": "stream",
     "text": [
      "n\n",
      "nusap\n",
      "i\n",
      "usaputri\n"
     ]
    }
   ],
   "source": [
    "university = input(\"isikan nama kampus anda:\")\n",
    "#mencetak karakter pertama\n",
    "print(university[0])\n",
    "#mencetak karakter pertama sampai ke 5\n",
    "print(university[0:5])\n",
    "#mencetak karakter paling akhir\n",
    "print(university[-1])\n",
    "#mencetak karakter ke 2 sampai selesai\n",
    "print(university[1:])\n"
   ]
  },
  {
   "cell_type": "markdown",
   "id": "0f4b8146-9322-45ad-b3a6-46682e406405",
   "metadata": {},
   "source": [
    "<h3>Fungsi String</h3>"
   ]
  },
  {
   "cell_type": "code",
   "execution_count": 50,
   "id": "d65a4681-11c3-41ad-b1b3-46a43588edd7",
   "metadata": {},
   "outputs": [
    {
     "name": "stdin",
     "output_type": "stream",
     "text": [
      "Isikan nama lengkap: daus besar\n"
     ]
    },
    {
     "name": "stdout",
     "output_type": "stream",
     "text": [
      "Nama Anda adalah daus besar\n"
     ]
    }
   ],
   "source": [
    "fullName = input(\"Isikan nama lengkap:\")\n",
    "#split -> untuk memisahkan string berdasarkan karakter tertentu\n",
    "name = fullName.split(' ')\n",
    "print(\"Nama depan\",name[0])\n",
    "print(\"Nama tengah\",name[1])\n",
    "print(\"Nama belakang\",name[2])\n",
    "\n",
    "#print fstring\n",
    "print(f\"Nama Anda adalah {fullName}\")\n",
    "\n",
    "#find untuk mencari karakter dalam string\n",
    "#jika ditemukan maka akan mengembalikan posisi indeks\n",
    "#jika tidak ditemukan maka akan mengembalikan nilai -1\n",
    "platMobil = \"N7865BB\"\n",
    "print(platMobil.find(\"B\"))"
   ]
  },
  {
   "cell_type": "code",
   "execution_count": 86,
   "id": "72879687-3405-4aa0-ac56-86b5ecf8aa4d",
   "metadata": {},
   "outputs": [
    {
     "name": "stdin",
     "output_type": "stream",
     "text": [
      "Isikan email Anda: .@\n"
     ]
    },
    {
     "name": "stdout",
     "output_type": "stream",
     "text": [
      "posisi cek1 = 1\n",
      "posisi cek2 = 0\n",
      "Email tidak valid\n"
     ]
    }
   ],
   "source": [
    "#Buatlah program untuk mengecek email valid atau tidak (Operator ternary)\n",
    "#email harus mempunyai \"@\" dan \".\"\n",
    "#posisi \"@\" selalu didepan\n",
    "\n",
    "email = input(\"Isikan email Anda:\")\n",
    "cek1 = email.find(\"@\")\n",
    "cek2 = email.find(\".\")\n",
    "print(f\"posisi cek1 = {cek1}\")\n",
    "print(f\"posisi cek2 = {cek2}\")\n",
    "\n",
    "cekValid = \"Email valid\" if cek1 > -1 and cek2 > -1 and cek1 < cek2 else \"Email tidak valid\"\n",
    "print(cekValid)"
   ]
  },
  {
   "cell_type": "markdown",
   "id": "9a7ff764-2c50-4d82-9be0-b401cdbbf7e2",
   "metadata": {},
   "source": [
    "<h3>Random</h3>"
   ]
  },
  {
   "cell_type": "code",
   "execution_count": 181,
   "id": "6fca4efd-247a-4a9c-bb32-c155662545ce",
   "metadata": {},
   "outputs": [
    {
     "name": "stdout",
     "output_type": "stream",
     "text": [
      "Hasil dari nilai acak pecahan adalah 0.2711578313161386\n",
      "Hasil dari nilai acak bulat adalah 21\n",
      "Hasil dari acak bulan adalah Nov\n",
      "Hasil dari acak hari adalah ['Mon', 1]\n",
      "Berapakah 31 + 56\n"
     ]
    },
    {
     "name": "stdin",
     "output_type": "stream",
     "text": [
      "isikan hsilnya: 20\n"
     ]
    },
    {
     "name": "stdout",
     "output_type": "stream",
     "text": [
      "Anda salah !\n"
     ]
    }
   ],
   "source": [
    "from random import random #mengacak nilai float\n",
    "nilai = random()\n",
    "print(f\"Hasil dari nilai acak pecahan adalah {nilai}\")\n",
    "\n",
    "from random import randint\n",
    "nilaiInt = randint(0,100)\n",
    "print(f\"Hasil dari nilai acak bulat adalah {nilaiInt}\")\n",
    "\n",
    "from random import choice\n",
    "month = [\"Jan\",\"Feb\",\"Mar\",\"Apr\",\"Mei\",\"Jun\",\"Jul\",\"Aug\",\"Sep\",\"Oct\",\"Nov\",\"Des\"]\n",
    "day = [[\"Mon\",1],[\"Tue\",2],[\"Wed\",3],[\"Thu\",4],[\"Fri\",5],[\"Sat\",6],[\"Sun\",7]]\n",
    "\n",
    "sMonth = choice(month)\n",
    "sDay = choice(day)\n",
    "\n",
    "print(f\"Hasil dari acak bulan adalah {sMonth}\")\n",
    "print(f\"Hasil dari acak hari adalah {sDay}\")\n",
    "\n",
    "nilai1 = randint(0,100)\n",
    "nilai2 = randint(0,100)\n",
    "print(f\"Berapakah {nilai1} + {nilai2}\")\n",
    "jawab = int(input(\"isikan hsilnya:\"))\n",
    "cekJawab = \"Anda benar !\" if jawab == nilai1 + nilai2 else \"Anda salah !\"\n",
    "print(cekJawab)"
   ]
  },
  {
   "cell_type": "code",
   "execution_count": 195,
   "id": "3e8aa0fc-374e-46eb-8e5d-39ade0305ea1",
   "metadata": {},
   "outputs": [
    {
     "name": "stdout",
     "output_type": "stream",
     "text": [
      "Berapakah 9 / 63:\n"
     ]
    },
    {
     "name": "stdin",
     "output_type": "stream",
     "text": [
      "Isikan hasilnya: 2\n"
     ]
    },
    {
     "name": "stdout",
     "output_type": "stream",
     "text": [
      "Anda salah !\n"
     ]
    }
   ],
   "source": [
    "from random import randint,choice\n",
    "\n",
    "nilai1 = randint(0,100)\n",
    "nilai2 = randint(0,100)\n",
    "operator = [\"+\",\"-\",\"*\",\"/\"]\n",
    "sOperator = choice(operator)\n",
    "print(f\"Berapakah {nilai1} {sOperator} {nilai2}:\")\n",
    "jawab = int(input(\"Isikan hasilnya:\"))\n",
    "\n",
    "# IF ELSE\n",
    "if sOperator == \"+\":\n",
    "    cekjawab = \"Anda benar !\" if jawab == nilai1 + nilai2 else \"Anda salah !\"\n",
    "elif sOperator == \"-\":\n",
    "    cekJawab = \"Anda benar !\" if jawab == nilai1 - nilai2 else \"Anda salah !\"\n",
    "elif sOperator == \"*\":\n",
    "    cekJawab = \"Anda benar !\" if jawab == nilai1 * nilai2 else \"Anda salah !\"\n",
    "elif sOperator == \"/\":\n",
    "    cekJawab = \"Anda benar !\" if jawab == nilai1 // nilai2 else \"Anda salah !\"\n",
    "\n",
    "print(cekJawab)"
   ]
  },
  {
   "cell_type": "code",
   "execution_count": 227,
   "id": "5c02b15d-7719-4436-bf34-fb939e56bb0c",
   "metadata": {},
   "outputs": [
    {
     "name": "stdout",
     "output_type": "stream",
     "text": [
      "Apa bahasa inggrisnya Lari\n"
     ]
    },
    {
     "name": "stdin",
     "output_type": "stream",
     "text": [
      "Masukan jawaban: run\n"
     ]
    },
    {
     "name": "stdout",
     "output_type": "stream",
     "text": [
      "Anda salah !\n"
     ]
    }
   ],
   "source": [
    "from random import choice\n",
    "\n",
    "bin = [\"Makan\",\"Minum\",\"Tidur\",\"Lari\",\"Renang\"]\n",
    "\n",
    "gacha = choice(bin)\n",
    "print(f\"Apa bahasa inggrisnya {gacha}\")\n",
    "jawab = input(\"Masukan jawaban:\")\n",
    "\n",
    "if gacha == \"Makan\":\n",
    "    cekjawab = \"Anda benar !\" if jawab == \"Eat\" else \"Anda salah !\"\n",
    "elif gacha == \"Minum\":\n",
    "    cekJawab = \"Anda benar !\" if jawab == \"Drink\" else \"Anda salah !\"\n",
    "elif gacha == \"Tidur\":\n",
    "    cekJawab = \"Anda benar !\" if jawab == \"Sleep\" else \"Anda salah !\"\n",
    "elif gacha == \"Lari\":\n",
    "    cekJawab = \"Anda benar !\" if jawab == \"Run\" else \"Anda salah !\"\n",
    "elif gacha == \"Renang\":\n",
    "    cekJawab = \"Anda benar !\" if jawab == \"Run\" else \"Anda salah !\"\n",
    "\n",
    "print(cekJawab)"
   ]
  },
  {
   "cell_type": "code",
   "execution_count": 19,
   "id": "4ec26ebc-10fd-46b9-ae42-294c84dde06e",
   "metadata": {},
   "outputs": [
    {
     "name": "stdin",
     "output_type": "stream",
     "text": [
      "ENG->IND (1), IND->ENG (2): 2\n"
     ]
    },
    {
     "name": "stdout",
     "output_type": "stream",
     "text": [
      "Apa bahasa inggris dari Membaca\n"
     ]
    },
    {
     "name": "stdin",
     "output_type": "stream",
     "text": [
      "Isikan jawaban: Reading\n"
     ]
    },
    {
     "name": "stdout",
     "output_type": "stream",
     "text": [
      "Anda benar !!\n"
     ]
    }
   ],
   "source": [
    "from random import choice\n",
    "\n",
    "kamus = [[\"Makan\",\"Eat\"],[\"Minum\",\"Drink\"],[\"Membaca\",\"Reading\"],[\"Berenang\",\"Swim\"]]\n",
    "sKamus = choice(kamus)\n",
    "pilihan = int(input(\"ENG->IND (1), IND->ENG (2):\"))\n",
    "if pilihan == 1:\n",
    "    print(f\"Apa arti dari {sKamus[1]}?\")\n",
    "    jawab = input(\"Isikan jawaban:\")\n",
    "    cekTranslate = \"Anda benar !!\" if jawab == sKamus[0] else \"Anda salah !!\"\n",
    "elif pilihan == 2:\n",
    "    print(f\"Apa bahasa inggris dari {sKamus[0]}\")\n",
    "    jawab = input(\"Isikan jawaban:\")\n",
    "    cekTranslate = \"Anda benar !!\" if jawab == sKamus[1] else \"Anda salah !!\"\n",
    "\n",
    "print(cekTranslate)"
   ]
  }
 ],
 "metadata": {
  "kernelspec": {
   "display_name": "Python [conda env:base] *",
   "language": "python",
   "name": "conda-base-py"
  },
  "language_info": {
   "codemirror_mode": {
    "name": "ipython",
    "version": 3
   },
   "file_extension": ".py",
   "mimetype": "text/x-python",
   "name": "python",
   "nbconvert_exporter": "python",
   "pygments_lexer": "ipython3",
   "version": "3.12.7"
  }
 },
 "nbformat": 4,
 "nbformat_minor": 5
}
