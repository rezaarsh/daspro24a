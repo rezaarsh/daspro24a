{
 "cells": [
  {
   "cell_type": "code",
   "execution_count": 3,
   "id": "69079af2-7e54-4ae0-8a5b-b5cd30548620",
   "metadata": {},
   "outputs": [
    {
     "name": "stdout",
     "output_type": "stream",
     "text": [
      "\n",
      "= Menu Data mahasiswa =\n",
      "1. Tambah Data\n",
      "2. Tampilkan Data\n",
      "3. Exit\n",
      "\n"
     ]
    },
    {
     "name": "stdin",
     "output_type": "stream",
     "text": [
      "Pilih Menu:  1\n",
      "Masukan NIM:  20240040059\n",
      "Masukan Nama:  Reza Ariansah\n",
      "Masukan Alamat:  Kampung Bakti\n",
      "Masukan Kelas:  TI24\n",
      "Pilih Menu:  2\n"
     ]
    },
    {
     "name": "stdout",
     "output_type": "stream",
     "text": [
      "\n",
      "NIM : 20240040059\n",
      "Nama : Reza Ariansah\n",
      "Alamat : Kampung Bakti\n",
      "Kelas : TI24\n",
      "\n"
     ]
    },
    {
     "name": "stdin",
     "output_type": "stream",
     "text": [
      "Pilih Menu:  3\n"
     ]
    },
    {
     "name": "stdout",
     "output_type": "stream",
     "text": [
      "Thank You !!!\n"
     ]
    }
   ],
   "source": [
    "### Data Mahasiswa\n",
    "\n",
    "print(\"\"\"\n",
    "= Menu Data mahasiswa =\n",
    "1. Tambah Data\n",
    "2. Tampilkan Data\n",
    "3. Exit\n",
    "\"\"\")\n",
    "while True:\n",
    "    pilih = input(\"Pilih Menu: \")\n",
    "    if pilih == \"1\":\n",
    "        nim = input(\"Masukan NIM: \")\n",
    "        nama = input(\"Masukan Nama: \")\n",
    "        alamat = input(\"Masukan Alamat: \")\n",
    "        kelas = input(\"Masukan Kelas: \")\n",
    "        with open(\"dataMahasiswa.txt\",\"a\") as file:\n",
    "            if len(nim) == 11:\n",
    "                file.write(F\"\\nNIM : {nim}\\n\")\n",
    "            else:\n",
    "                print(\"NIM tidak boleh kurang atau lebih dari 11\")\n",
    "            if len(nama) > 5:\n",
    "                file.write(F\"Nama : {nama}\\n\")\n",
    "            else:\n",
    "                print(\"Nama tidak boleh kurang dari 5\")\n",
    "            if len(alamat) > 10:\n",
    "                file.write(F\"Alamat : {alamat}\\n\")\n",
    "            else:\n",
    "                print(\"Alamat tidak boleh kurang dari 10\")\n",
    "            if kelas in [\"TI23\",\"TI24\"]:\n",
    "                file.write(F\"Kelas : {kelas}\\n\")\n",
    "            else:\n",
    "                print(\"kelas tidak boleh selain TI23 atau TI24\")\n",
    "    elif pilih == \"2\":\n",
    "        try:\n",
    "            f = open(\"dataMahasiswa.txt\",\"r\")\n",
    "            baris = f.read()\n",
    "        except FileNotFoundError:\n",
    "            print(\"File Tidak Ditemukan\")\n",
    "        else:\n",
    "            print(baris)\n",
    "    elif pilih == \"3\":\n",
    "        print(\"Thank You !!!\")\n",
    "        break\n",
    "    else:\n",
    "        print(\"Menu tidak ada\")"
   ]
  },
  {
   "cell_type": "code",
   "execution_count": null,
   "id": "74903328-29f9-4c12-a8af-5e09d444af6a",
   "metadata": {},
   "outputs": [],
   "source": []
  }
 ],
 "metadata": {
  "kernelspec": {
   "display_name": "Python [conda env:base] *",
   "language": "python",
   "name": "conda-base-py"
  },
  "language_info": {
   "codemirror_mode": {
    "name": "ipython",
    "version": 3
   },
   "file_extension": ".py",
   "mimetype": "text/x-python",
   "name": "python",
   "nbconvert_exporter": "python",
   "pygments_lexer": "ipython3",
   "version": "3.12.7"
  }
 },
 "nbformat": 4,
 "nbformat_minor": 5
}
