{
 "cells": [
  {
   "cell_type": "markdown",
   "id": "78834ab9-53fd-4172-b4fb-457fa0e1faaa",
   "metadata": {},
   "source": [
    "<center><img src=\"https://algorit.ma/wp-content/uploads/2022/02/Python-Logo-1030x644.png\" width=\"900\" </center><br>\n",
    "Tutorial Jupiter Notebook<br>\n",
    "Tempat menuliskan kode disebut sebagai <b>cell</b><br>\n",
    "<ol>\n",
    "    <li>Code</li>\n",
    "    <li>Markdown</li>\n",
    "</ol>\n",
    "Cara menjalankan cell<br>\n",
    "<table>\n",
    "    <tr>\n",
    "        <td>Command</td>\n",
    "        <td>Keterangan</td>\n",
    "    </tr>\n",
    "    <tr>\n",
    "        <td>ctrl + enter</td>\n",
    "        <td>Running dan fokus di cell aktif</td>\n",
    "    </tr>\n",
    "    <tr>\n",
    "        <td>shift + enter</td>\n",
    "        <td>Running dan fokus di cell berikutnya</td>\n",
    "    </tr>\n",
    "</table>\n",
    "Menjalankan cell ada dua cara<br>\n",
    "<ul>\n",
    "    <li>Code Y</li>\n",
    "    <li>Markdown M</li>\n",
    "</ul>\n"
   ]
  },
  {
   "cell_type": "markdown",
   "id": "60f18e6e-b819-4585-becf-dfc53d89e0d0",
   "metadata": {},
   "source": [
    "Menambahkan cell ada 2 cara\n",
    "<ul>\n",
    "    <li>Tekan A -> above</li>\n",
    "    <li>Tekan B -> Below</li>\n",
    "</ul>\n",
    "Cara membuat output di python adalah <br>\n",
    "'''print(\"teks\")'''"
   ]
  },
  {
   "cell_type": "code",
   "execution_count": 31,
   "id": "91cc9df8-f366-4428-b7c7-3b5d6bdab568",
   "metadata": {},
   "outputs": [
    {
     "name": "stdout",
     "output_type": "stream",
     "text": [
      "Selamat belajar Python\n",
      "Selamat belajar Variabel\n"
     ]
    }
   ],
   "source": [
    "#Cetak tulisan selamat belajar python\n",
    "print (\"Selamat belajar Python\")\n",
    "data = \"Selamat belajar Variabel\"\n",
    "print(data)"
   ]
  },
  {
   "cell_type": "code",
   "execution_count": 29,
   "id": "85dfdd58-2bfe-46e3-a502-678d44a92652",
   "metadata": {},
   "outputs": [
    {
     "name": "stdout",
     "output_type": "stream",
     "text": [
      "Selamat belajar Variabel\n"
     ]
    },
    {
     "data": {
      "text/plain": [
       "18"
      ]
     },
     "execution_count": 29,
     "metadata": {},
     "output_type": "execute_result"
    }
   ],
   "source": [
    "print (data)\n",
    "data\n",
    "3 + 2\n",
    "num1 = 6\n",
    "num2 = 9\n",
    "num1 + num2\n",
    "num3 = 12\n",
    "num4 = 28\n",
    "num3 + num1"
   ]
  }
 ],
 "metadata": {
  "kernelspec": {
   "display_name": "Python [conda env:base] *",
   "language": "python",
   "name": "conda-base-py"
  },
  "language_info": {
   "codemirror_mode": {
    "name": "ipython",
    "version": 3
   },
   "file_extension": ".py",
   "mimetype": "text/x-python",
   "name": "python",
   "nbconvert_exporter": "python",
   "pygments_lexer": "ipython3",
   "version": "3.12.7"
  }
 },
 "nbformat": 4,
 "nbformat_minor": 5
}
