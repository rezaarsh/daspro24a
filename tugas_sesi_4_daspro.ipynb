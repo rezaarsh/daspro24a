{
 "cells": [
  {
   "cell_type": "code",
   "execution_count": 21,
   "id": "88991567-7603-4954-aeb9-58af3eab81b3",
   "metadata": {},
   "outputs": [
    {
     "name": "stdout",
     "output_type": "stream",
     "text": [
      "Setiap teman menerima 3.0 apel\n",
      "Total apel Budi sekarang adalah 8.0 buah\n"
     ]
    }
   ],
   "source": [
    "# 1. Operator Aritmatika\n",
    "\n",
    "apelBudi = 12\n",
    "jumlahTeman = 4\n",
    "apelPerTeman = apelBudi / jumlahTeman\n",
    "sisaApel = apelBudi % apelPerTeman\n",
    "\n",
    "print(\"Setiap teman menerima\",apelPerTeman,\"apel\")\n",
    "\n",
    "print(\"Total apel Budi sekarang adalah\",sisaApel + 8,\"buah\")"
   ]
  },
  {
   "cell_type": "code",
   "execution_count": 27,
   "id": "356bae42-335b-47c2-bbab-e233b842c1af",
   "metadata": {},
   "outputs": [
    {
     "name": "stdout",
     "output_type": "stream",
     "text": [
      "Apakah Andi lebih tinggi dari Siti ? True\n"
     ]
    }
   ],
   "source": [
    "# 2. Operator Perbandingan\n",
    "\n",
    "tinggiSiti = 160\n",
    "tinggiAndi = 165\n",
    "print(\"Apakah Andi lebih tinggi dari Siti ?\",tinggiAndi > tinggiSiti)"
   ]
  },
  {
   "cell_type": "code",
   "execution_count": 31,
   "id": "844c573b-b91e-4a60-9430-406f4685d222",
   "metadata": {},
   "outputs": [
    {
     "name": "stdout",
     "output_type": "stream",
     "text": [
      "Apakah Budi bisa bermain ? True\n"
     ]
    }
   ],
   "source": [
    "# 3. Operator Logika\n",
    "\n",
    "cuacaCerah = True\n",
    "prSelesai = True\n",
    "\n",
    "print(\"Apakah Budi bisa bermain ?\",cuacaCerah and prSelesai)"
   ]
  },
  {
   "cell_type": "code",
   "execution_count": 45,
   "id": "b68d709f-c5fa-479b-bd97-d3f7d47502d6",
   "metadata": {},
   "outputs": [
    {
     "name": "stdout",
     "output_type": "stream",
     "text": [
      "Biner dari 6 : 0b110\n",
      "Biner dari 3 : 0b11\n",
      "\n",
      "Bitwise &\n",
      "0b110\n",
      "0b11\n",
      "--------- &\n",
      "0b10\n",
      "Nilai desimalnya adalah 2\n",
      "\n",
      "Bitwise |\n",
      "0b110\n",
      "0b11\n",
      "--------- |\n",
      "0b111\n",
      "Nilai desimalnya adalah 7\n",
      "\n",
      "Bitwise ^\n",
      "0b110\n",
      "0b11\n",
      "--------- ^\n",
      "0b101\n",
      "Nilai desimalnya adalah 5\n"
     ]
    }
   ],
   "source": [
    "# 4. Operator Bitwise\n",
    "\n",
    "angka1 = 6\n",
    "angka2 = 3\n",
    "\n",
    "print(\"Biner dari\",angka1,\":\",bin(angka1))\n",
    "print(\"Biner dari\",angka2,\":\",bin(angka2))\n",
    "\n",
    "#Bitwise &\n",
    "print(\"\\nBitwise &\")\n",
    "bitwiseAnd = angka1 & angka2\n",
    "print(bin(angka1))\n",
    "print(bin(angka2))\n",
    "print(\"--------- &\")\n",
    "print(bin(bitwiseAnd))\n",
    "print(\"Nilai desimalnya adalah\",bitwiseAnd)\n",
    "\n",
    "#Bitwise |\n",
    "print(\"\\nBitwise |\")\n",
    "bitwiseOr = angka1 | angka2\n",
    "print(bin(angka1))\n",
    "print(bin(angka2))\n",
    "print(\"--------- |\")\n",
    "print(bin(bitwiseOr))\n",
    "print(\"Nilai desimalnya adalah\",bitwiseOr)\n",
    "\n",
    "#Bitwise ^\n",
    "print(\"\\nBitwise ^\")\n",
    "bitwiseXOR = angka1 ^ angka2\n",
    "print(bin(angka1))\n",
    "print(bin(angka2))\n",
    "print(\"--------- ^\")\n",
    "print(bin(bitwiseXOR))\n",
    "print(\"Nilai desimalnya adalah\",bitwiseXOR)"
   ]
  },
  {
   "cell_type": "code",
   "execution_count": 57,
   "id": "08a6a87f-e514-429f-9f30-14c5e97fc901",
   "metadata": {},
   "outputs": [
    {
     "name": "stdout",
     "output_type": "stream",
     "text": [
      "saldo pulsa awal = Rp. 50000\n",
      "Saldo pulsa setelah di isi ulang Rp.20.000 = Rp. 70000\n",
      "Sisa saldo pulsa setelah membeli paket internet seharga Rp.30.000 = Rp. 40000\n"
     ]
    }
   ],
   "source": [
    "# 5. Operator Penugasan\n",
    "\n",
    "saldoPulsa = 50000\n",
    "print(\"saldo pulsa awal = Rp.\",saldoPulsa)\n",
    "saldoPulsa += 20000\n",
    "print(\"Saldo pulsa setelah di isi ulang Rp.20.000 = Rp.\",saldoPulsa)\n",
    "saldoPulsa -= 30000\n",
    "print(\"Sisa saldo pulsa setelah membeli paket internet seharga Rp.30.000 = Rp.\",saldoPulsa)"
   ]
  },
  {
   "cell_type": "code",
   "execution_count": 69,
   "id": "2331f0ce-19db-494f-b4c3-3f079d3e47dd",
   "metadata": {},
   "outputs": [
    {
     "name": "stdout",
     "output_type": "stream",
     "text": [
      "False\n",
      "True\n"
     ]
    }
   ],
   "source": [
    "# 6. Operator Keanggotaan\n",
    "\n",
    "pesertaLombaCoding = [\"Andi\",\"Budi\",\"Citra\",\"Dewi\"]\n",
    "print(\"Eka\" in pesertaLombaCoding)\n",
    "\n",
    "kalimat = \"Saya suka belajar Python\"\n",
    "print(\"Python\" in kalimat)"
   ]
  },
  {
   "cell_type": "code",
   "execution_count": 83,
   "id": "880f5d77-b524-4d5c-a4cb-3fcb5628d788",
   "metadata": {},
   "outputs": [
    {
     "name": "stdout",
     "output_type": "stream",
     "text": [
      "Memori address dari x = 140717451323928\n",
      "Memori address dari y = 140717451323928\n",
      "Apakah x dan y merujuk ke memori yang sama dalam memori ? True\n",
      "\n",
      "--------------\n",
      "\n",
      "Memori address dari list1 = 2704974421248\n",
      "Memori address dari list2 = 2704974426688\n",
      "Apakah kedua list tersebut mengacu ke objek yang sama ? False\n"
     ]
    }
   ],
   "source": [
    "# 7. Operator Identitas\n",
    "\n",
    "x = 4\n",
    "y = 4\n",
    "\n",
    "print(\"Memori address dari x =\", id(x))\n",
    "print(\"Memori address dari y =\", id(y))\n",
    "print(\"Apakah x dan y merujuk ke memori yang sama dalam memori ?\",x is y)\n",
    "\n",
    "print(\"\\n--------------\\n\")\n",
    "\n",
    "list1 = [\"Upin\",\"Ipin\",\"Kak Ros\"]\n",
    "list2 = [\"Upin\",\"Ipin\",\"Kak Ros\"]\n",
    "\n",
    "print(\"Memori address dari list1 =\", id(list1))\n",
    "print(\"Memori address dari list2 =\", id(list2))\n",
    "print(\"Apakah kedua list tersebut mengacu ke objek yang sama ?\",list1 is list2)\n"
   ]
  },
  {
   "cell_type": "code",
   "execution_count": 95,
   "id": "a0faafce-cee3-4a1c-914e-e84c22d14dcc",
   "metadata": {},
   "outputs": [
    {
     "name": "stdin",
     "output_type": "stream",
     "text": [
      "Masukan angka : 101\n"
     ]
    },
    {
     "name": "stdout",
     "output_type": "stream",
     "text": [
      "Angka lebih besar dari 100\n"
     ]
    },
    {
     "name": "stdin",
     "output_type": "stream",
     "text": [
      "Masukan nilai : 99\n"
     ]
    },
    {
     "name": "stdout",
     "output_type": "stream",
     "text": [
      "Lulus\n"
     ]
    }
   ],
   "source": [
    "# 8. Operator Ternary\n",
    "\n",
    "angka = int(input(\"Masukan angka :\"))\n",
    "kondisiAngka = \"Angka lebih besar dari 100\" if angka > 100 else \"Angka lebih kecil dari 100\"\n",
    "print(kondisiAngka)\n",
    "\n",
    "nilai = int(input(\"Masukan nilai :\"))\n",
    "kondisiNilai = \"Lulus\" if nilai > 70 else \"Tidak Lulus\"\n",
    "print(kondisiNilai)"
   ]
  }
 ],
 "metadata": {
  "kernelspec": {
   "display_name": "Python [conda env:base] *",
   "language": "python",
   "name": "conda-base-py"
  },
  "language_info": {
   "codemirror_mode": {
    "name": "ipython",
    "version": 3
   },
   "file_extension": ".py",
   "mimetype": "text/x-python",
   "name": "python",
   "nbconvert_exporter": "python",
   "pygments_lexer": "ipython3",
   "version": "3.12.7"
  }
 },
 "nbformat": 4,
 "nbformat_minor": 5
}
