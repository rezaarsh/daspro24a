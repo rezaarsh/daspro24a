{
 "cells": [
  {
   "cell_type": "markdown",
   "id": "7bd0b4b8-c624-4b76-89ff-3f700c6c8e68",
   "metadata": {},
   "source": [
    "<h1>Operator Aritmatika</h1>"
   ]
  },
  {
   "cell_type": "code",
   "execution_count": 7,
   "id": "e54ccfee-5733-46a7-81cd-0b2108ce8d9a",
   "metadata": {},
   "outputs": [
    {
     "name": "stdin",
     "output_type": "stream",
     "text": [
      "Masukan nilai x :  4\n",
      "Masukan nilai y :  4\n"
     ]
    },
    {
     "name": "stdout",
     "output_type": "stream",
     "text": [
      "Penjumlahan 4 + 4 = 8\n",
      "Pengurangan 4 - 4 = 0\n",
      "Perkalian 4 * 4 = 16\n",
      "Pembagian 4 / 4 = 1.0\n",
      "Sisa Bagi 4 % 4 = 0\n",
      "Pangkat 4 ** 4 = 256\n",
      "Pembagian Bulat 4 // 4 = 1\n"
     ]
    }
   ],
   "source": [
    "x = int(input(\"Masukan nilai x : \"))\n",
    "y = int(input(\"Masukan nilai y : \"))\n",
    "\n",
    "hasilTambah = x + y\n",
    "hasilKurang = x - y\n",
    "hasilKali = x * y\n",
    "hasilBagi = x / y\n",
    "hasilModulus = x % y\n",
    "hasilPangkat = x ** y\n",
    "hasilBagiBulat = x // y\n",
    "\n",
    "print(\"Penjumlahan\", x, \"+\", y, \"=\", hasilTambah)\n",
    "print(\"Pengurangan\", x, \"-\", y, \"=\", hasilKurang)\n",
    "print(\"Perkalian\", x, \"*\", y, \"=\", hasilKali)\n",
    "print(\"Pembagian\", x, \"/\", y, \"=\", hasilBagi)\n",
    "print(\"Sisa Bagi\", x, \"%\", y, \"=\", hasilModulus)\n",
    "print(\"Pangkat\", x, \"**\", y, \"=\", hasilPangkat)\n",
    "print(\"Pembagian Bulat\", x, \"//\", y, \"=\", hasilBagiBulat)"
   ]
  },
  {
   "cell_type": "markdown",
   "id": "bad09991-5dde-4a90-b2c6-4db9a5307a80",
   "metadata": {},
   "source": [
    "<h1>Operator Penugasan (Assignment)</h1>"
   ]
  },
  {
   "cell_type": "code",
   "execution_count": 10,
   "id": "e7510df3-81bf-4d4c-9278-bb538506ce0f",
   "metadata": {},
   "outputs": [
    {
     "name": "stdin",
     "output_type": "stream",
     "text": [
      "Isikan nilai :  10\n"
     ]
    },
    {
     "name": "stdout",
     "output_type": "stream",
     "text": [
      "Nilai awal dari <nilai> :  10\n",
      "Nilai setelah ditambahkan 3 :  13\n",
      "Nilai setelah dikurangkan 5 :  8\n",
      "Nilai setelah dikalikan 10 :  80\n",
      "Nilai setelah dibagi 2 :  40.0\n"
     ]
    }
   ],
   "source": [
    "nilai = int(input(\"Isikan nilai : \"))\n",
    "print(\"Nilai awal dari <nilai> : \",nilai)\n",
    "nilai += 3\n",
    "print(\"Nilai setelah ditambahkan 3 : \",nilai)\n",
    "nilai -= 5\n",
    "print(\"Nilai setelah dikurangkan 5 : \",nilai)\n",
    "nilai *= 10\n",
    "print(\"Nilai setelah dikalikan 10 : \",nilai)\n",
    "nilai /= 2\n",
    "print(\"Nilai setelah dibagi 2 : \",nilai)"
   ]
  },
  {
   "cell_type": "markdown",
   "id": "0cca72b1-f175-43bd-bc59-5ca46f37c105",
   "metadata": {},
   "source": [
    "<h1>Operator Perbandingan</h1>"
   ]
  },
  {
   "cell_type": "code",
   "execution_count": 20,
   "id": "faf94d47-3b2f-4ce4-a405-4befe83ead64",
   "metadata": {},
   "outputs": [
    {
     "name": "stdin",
     "output_type": "stream",
     "text": [
      "Isikan nilai 1 :  6\n",
      "Isikan nilai 2 :  6\n"
     ]
    },
    {
     "name": "stdout",
     "output_type": "stream",
     "text": [
      "Apakah  6 = 6 ?: True\n",
      "Apakah  6 != 6 ?: False\n",
      "Apakah  6 > 6 ?: False\n",
      "Apakah  6 >= 6 ?: True\n",
      "Apakah  6 < 6 ?: False\n",
      "Apakah  6 <= 6 ?: True\n"
     ]
    }
   ],
   "source": [
    "val1 = int(input('Isikan nilai 1 : '))\n",
    "val2 = int(input(\"Isikan nilai 2 : \"))\n",
    "\n",
    "print(\"Apakah \",val1,\"=\",val2,\"?:\",val1 == val2)\n",
    "print(\"Apakah \",val1,\"!=\",val2,\"?:\",val1 != val2)\n",
    "print(\"Apakah \",val1,\">\",val2,\"?:\",val1 > val2)\n",
    "print(\"Apakah \",val1,\">=\",val2,\"?:\",val1 >= val2)\n",
    "print(\"Apakah \",val1,\"<\",val2,\"?:\",val1 < val2)\n",
    "print(\"Apakah \",val1,\"<=\",val2,\"?:\",val1 <= val2)"
   ]
  },
  {
   "cell_type": "markdown",
   "id": "aa735fbf-4abf-4ca4-ba29-cfed68a0c8a3",
   "metadata": {},
   "source": [
    "<h1>Operator Logika</h1>"
   ]
  },
  {
   "cell_type": "code",
   "execution_count": 1,
   "id": "9c03ef9d-bdba-4989-b386-e484530fb830",
   "metadata": {},
   "outputs": [
    {
     "name": "stdin",
     "output_type": "stream",
     "text": [
      "isikan nilai a :  2\n",
      "isikan nilai b :  3\n",
      "isikan nilai c :  4\n",
      "isikan nilai d :  5\n"
     ]
    },
    {
     "name": "stdout",
     "output_type": "stream",
     "text": [
      "Nilai a :  2\n",
      "Nilai b :  3\n",
      "Nilai c :  4\n",
      "Nilai d :  5\n",
      "Apakah a > b dan c < d : False\n",
      "Apakah a > b atau c < d : True\n",
      "Apakah a > b dan c < d : True\n"
     ]
    }
   ],
   "source": [
    "a = int(input('isikan nilai a : '))\n",
    "b = int(input('isikan nilai b : '))\n",
    "c = int(input('isikan nilai c : '))\n",
    "d = int(input('isikan nilai d : '))\n",
    "print(\"Nilai a : \",a)\n",
    "print(\"Nilai b : \",b)\n",
    "print(\"Nilai c : \",c)\n",
    "print(\"Nilai d : \",d)\n",
    "\n",
    "print(\"Apakah a > b dan c < d :\", a > b and c < d) #logika and\n",
    "print(\"Apakah a > b atau c < d :\", a > b or c < d) #logika or\n",
    "print(\"Apakah a > b dan c < d :\", not(a > b and c < d)) #logika not and"
   ]
  },
  {
   "cell_type": "markdown",
   "id": "4632972f-e3f7-497e-96ce-0250e154443b",
   "metadata": {},
   "source": [
    "<h1>Operator Identitas</h1> "
   ]
  },
  {
   "cell_type": "code",
   "execution_count": 40,
   "id": "fa71d999-772f-48ae-ad9b-2ce6684e5d7e",
   "metadata": {},
   "outputs": [
    {
     "name": "stdout",
     "output_type": "stream",
     "text": [
      "Memori address dari num1 2765833300576\n",
      "Memori address dari num2 140716888042200\n",
      "Memori address dari num3 140716888042200\n",
      "Apakah num1 adalah num2 False\n",
      "Apakah num2 adalah num3 True\n",
      "Apakah num2 bukan num3 False\n"
     ]
    }
   ],
   "source": [
    "num1 = \"10\"\n",
    "num2 = 10\n",
    "num3 = num2\n",
    "\n",
    "print(\"Memori address dari num1\", id(num1))\n",
    "print(\"Memori address dari num2\", id(num2))\n",
    "print(\"Memori address dari num3\", id(num3))\n",
    "\n",
    "print(\"Apakah num1 adalah num2\",num1 is num2)\n",
    "print(\"Apakah num2 adalah num3\",num2 is num3)\n",
    "print(\"Apakah num2 bukan num3\",num2 is not num3)"
   ]
  },
  {
   "cell_type": "markdown",
   "id": "81c05ce7-546a-4d9a-a797-d37e7989c48a",
   "metadata": {},
   "source": [
    "<h1>Operator Keanggotaan (Membership)</h1>"
   ]
  },
  {
   "cell_type": "code",
   "execution_count": 45,
   "id": "09c2e6eb-b81f-4569-91b7-4af64181bb7f",
   "metadata": {},
   "outputs": [
    {
     "name": "stdin",
     "output_type": "stream",
     "text": [
      "isikan nama yang dicari : Caca\n"
     ]
    },
    {
     "name": "stdout",
     "output_type": "stream",
     "text": [
      "True\n",
      "False\n",
      "False\n",
      "True\n"
     ]
    }
   ],
   "source": [
    "nama = input(\"isikan nama yang dicari :\")\n",
    "listNama = [\"Andi\",\"Budi\",\"Caca\",\"Dudi\",\"Erfan\"]\n",
    "print(nama in listNama)\n",
    "print(nama in listNama[0])\n",
    "print(nama not in listNama)\n",
    "print(nama not in listNama[0])"
   ]
  },
  {
   "cell_type": "markdown",
   "id": "0c178304-8c0e-4188-a5c1-48dad4465cce",
   "metadata": {},
   "source": [
    "<h1>Operator Bitwise</h1>"
   ]
  },
  {
   "cell_type": "code",
   "execution_count": 70,
   "id": "e8d7f99e-951d-4a1c-9229-6744b42d1c0d",
   "metadata": {},
   "outputs": [
    {
     "name": "stdin",
     "output_type": "stream",
     "text": [
      "Isikan bilangan 1 : 10\n",
      "Isikan bilangan 2 : 12\n"
     ]
    },
    {
     "name": "stdout",
     "output_type": "stream",
     "text": [
      "Biner dari 10 : 0b1010\n",
      "Biner dari 12 : 0b1100\n",
      "0b1010\n",
      "0b1100\n",
      "--------- &\n",
      "0b1000\n",
      "Nilai desimalnya adalah 8\n",
      "\n",
      "Bitwise |\n",
      "0b1010\n",
      "0b1100\n",
      "--------- |\n",
      "0b1110\n",
      "Nilai desimalnya adalah 14\n",
      "\n",
      "Bitwise ^\n",
      "0b1010\n",
      "0b1100\n",
      "--------- ^\n",
      "0b110\n",
      "Nilai desimalnya adalah 6\n",
      "\n",
      "Bitwise <<\n",
      "0b1010 digeser ke kiri sebanyak 12 bit\n",
      "Hasilnya adalah 0b1010000000000000\n",
      "Nilai desimalnya adalah 40960\n",
      "\n",
      "Bitwise >>\n",
      "0b1010 digeser ke kanan sebanyak 12 bit\n",
      "Hasilnya adalah 0b1100\n",
      "Nilai desimalnya adalah 0\n"
     ]
    }
   ],
   "source": [
    "bil1 = int(input(\"Isikan bilangan 1 :\"))\n",
    "bil2 = int(input(\"Isikan bilangan 2 :\"))\n",
    "\n",
    "print(\"Biner dari\",bil1,\":\",bin(bil1))\n",
    "print(\"Biner dari\",bil2,\":\",bin(bil2))\n",
    "\n",
    "#Bitwise &\n",
    "bitwiseAnd = bil1 & bil2\n",
    "print(bin(bil1))\n",
    "print(bin(bil2))\n",
    "print(\"--------- &\")\n",
    "print(bin(bitwiseAnd))\n",
    "print(\"Nilai desimalnya adalah\",bitwiseAnd)\n",
    "\n",
    "#Bitwise |\n",
    "print(\"\\nBitwise |\")\n",
    "bitwiseOr = bil1 | bil2\n",
    "print(bin(bil1))\n",
    "print(bin(bil2))\n",
    "print(\"--------- |\")\n",
    "print(bin(bitwiseOr))\n",
    "print(\"Nilai desimalnya adalah\",bitwiseOr)\n",
    "\n",
    "#Bitwise ^\n",
    "print(\"\\nBitwise ^\")\n",
    "bitwiseXOR = bil1 ^ bil2\n",
    "print(bin(bil1))\n",
    "print(bin(bil2))\n",
    "print(\"--------- ^\")\n",
    "print(bin(bitwiseXOR))\n",
    "print(\"Nilai desimalnya adalah\",bitwiseXOR)\n",
    "\n",
    "#Bitwise << left\n",
    "print(\"\\nBitwise <<\")\n",
    "bitwiseSL = bil1 << bil2\n",
    "print(bin(bil1),\"digeser ke kiri sebanyak\",bil2,\"bit\")\n",
    "print(\"Hasilnya adalah\",bin(bitwiseSL))\n",
    "print(\"Nilai desimalnya adalah\",bitwiseSL)\n",
    "\n",
    "#Bitwise >> shift right\n",
    "print(\"\\nBitwise >>\")\n",
    "bitwiseSR = bil1 >> bil2\n",
    "print(bin(bil1),\"digeser ke kanan sebanyak\",bil2,\"bit\")\n",
    "print(\"Hasilnya adalah\",bin(bil2))\n",
    "print(\"Nilai desimalnya adalah\",bitwiseSR)"
   ]
  },
  {
   "cell_type": "markdown",
   "id": "cf229cbb-7b1e-47f7-9ee0-3db556425418",
   "metadata": {},
   "source": [
    "<h1>Operator Ternary</h1>"
   ]
  },
  {
   "cell_type": "code",
   "execution_count": 75,
   "id": "6d0bfc6d-9407-4af4-86b9-3f9b9972b6c2",
   "metadata": {},
   "outputs": [
    {
     "name": "stdin",
     "output_type": "stream",
     "text": [
      "Insert your number : 4\n"
     ]
    },
    {
     "name": "stdout",
     "output_type": "stream",
     "text": [
      "Bilangan Genap\n"
     ]
    }
   ],
   "source": [
    "number = int(input(\"Insert your number :\"))\n",
    "oddEven = \"Bilangan Genap\" if number % 2 == 0 else \"Bilangan Ganjil\"\n",
    "print(oddEven)"
   ]
  },
  {
   "cell_type": "markdown",
   "id": "d33e55ae-f251-41d7-89ab-fd1c46bee3d1",
   "metadata": {},
   "source": [
    "Seorang ibu berbelanja buat berbuka puasa, yaitu :\n",
    "1. Pisang goreng - 13.000\n",
    "2. Kolak - 5.000\n",
    "3. Nasi Padang - 20.000\n",
    "4. Es Buah - 10.000\n",
    "\n",
    "Jika ibu berbelanja lebih dari 25.000 maka akan mendapat discount 5% hitunglah total belanja ibu !"
   ]
  },
  {
   "cell_type": "code",
   "execution_count": 3,
   "id": "77968cf7-21b5-4eb4-ba7d-a731ee4ff7c6",
   "metadata": {},
   "outputs": [
    {
     "name": "stdin",
     "output_type": "stream",
     "text": [
      "Masukan jumlah Pisang Goreng: 10\n",
      "Masukan jumlah Kolak: 10\n",
      "Masukan jumlah Nasi Padang: 10\n",
      "Masukan jumlah Es Buah: 10\n"
     ]
    },
    {
     "name": "stdout",
     "output_type": "stream",
     "text": [
      "\n",
      "Total harga Pisang Goreng 130000\n",
      "Total harga Kolak 50000\n",
      "Total harga Nasi Padang 200000\n",
      "Total harga Es Buah 100000\n",
      "\n",
      "total harga : 480000\n",
      "\n",
      "Dapat discount 5%\n",
      "Jumlah diskon: 24000.0\n",
      "\n",
      "Total belanja ibu: 456000.0\n"
     ]
    }
   ],
   "source": [
    "pisangGoreng = int(input(\"Masukan jumlah Pisang Goreng:\"))\n",
    "Kolak = int(input(\"Masukan jumlah Kolak:\"))\n",
    "nasiPadang = int(input(\"Masukan jumlah Nasi Padang:\"))\n",
    "esBuah = int(input(\"Masukan jumlah Es Buah:\"))\n",
    "\n",
    "a = 13000 * pisangGoreng\n",
    "print(\"\\nTotal harga Pisang Goreng\",a)\n",
    "b = 5000 * Kolak\n",
    "print(\"Total harga Kolak\",b)\n",
    "c = 20000 * nasiPadang\n",
    "print(\"Total harga Nasi Padang\",c)\n",
    "d = 10000 * esBuah\n",
    "print(\"Total harga Es Buah\",d)\n",
    "\n",
    "total = a + b + c + d\n",
    "print(\"\\ntotal harga :\",total)\n",
    "\n",
    "discount = \"\\nDapat discount 5%\" if total >= 25000 else \"\\nTidak Dapat Discount\"\n",
    "print(discount)\n",
    "\n",
    "discountTotal = (total * 0.05) if total >= 25000 else 0\n",
    "print(\"Jumlah diskon:\",discountTotal)\n",
    "\n",
    "print(\"\\nTotal belanja ibu:\",total - discountTotal)"
   ]
  }
 ],
 "metadata": {
  "kernelspec": {
   "display_name": "Python [conda env:base] *",
   "language": "python",
   "name": "conda-base-py"
  },
  "language_info": {
   "codemirror_mode": {
    "name": "ipython",
    "version": 3
   },
   "file_extension": ".py",
   "mimetype": "text/x-python",
   "name": "python",
   "nbconvert_exporter": "python",
   "pygments_lexer": "ipython3",
   "version": "3.12.7"
  }
 },
 "nbformat": 4,
 "nbformat_minor": 5
}
