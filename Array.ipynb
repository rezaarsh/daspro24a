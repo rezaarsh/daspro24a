{
 "cells": [
  {
   "cell_type": "code",
   "execution_count": 1,
   "id": "1193e574-64be-4b2d-be73-e793814b4afd",
   "metadata": {},
   "outputs": [],
   "source": [
    "import numpy as np"
   ]
  },
  {
   "cell_type": "code",
   "execution_count": 9,
   "id": "a5fc4a4c-bfb5-492b-a253-569621040aa2",
   "metadata": {},
   "outputs": [
    {
     "name": "stdout",
     "output_type": "stream",
     "text": [
      "Array mat1D : [1 2 3 4 5 6 7 8 9]\n",
      "Array mat1D + 10 : [11 12 13 14 15 16 17 18 19]\n",
      "Array mat1D indeks ke 2 : 3\n"
     ]
    }
   ],
   "source": [
    "mat1D = np.array([1,2,3,4,5,6,7,8,9])\n",
    "print(f\"Array mat1D : {mat1D}\")\n",
    "print(f\"Array mat1D + 10 : {mat1D + 10}\")\n",
    "print(f\"Array mat1D indeks ke 2 : {mat1D[2]}\")"
   ]
  },
  {
   "cell_type": "code",
   "execution_count": 21,
   "id": "a8923f60-c043-4c6b-a840-2a9a3811c1b3",
   "metadata": {},
   "outputs": [
    {
     "name": "stdout",
     "output_type": "stream",
     "text": [
      "Array mat2D : [[1 2 3]\n",
      " [4 5 6]\n",
      " [7 8 9]]\n",
      "Array mat2D * 10 : [[10 20 30]\n",
      " [40 50 60]\n",
      " [70 80 90]]\n",
      "Array mat2D indeks ke 2 : [7 8 9]\n",
      "Array mat2D indeks ke 2 : 50\n"
     ]
    }
   ],
   "source": [
    "mat2D = np.array([[1,2,3],[4,5,6],[7,8,9]])\n",
    "print(f\"Array mat2D : {mat2D}\")\n",
    "print(f\"Array mat2D * 10 : {mat2D * 10}\")\n",
    "print(f\"Array mat2D indeks ke 2 : {mat2D[2]}\")\n",
    "print(f\"Array mat2D indeks ke 2 : {mat2D[1][1] * 10}\")"
   ]
  },
  {
   "cell_type": "code",
   "execution_count": 27,
   "id": "28ce947e-4288-4fb9-96ec-bbd627ad2d82",
   "metadata": {},
   "outputs": [
    {
     "name": "stdout",
     "output_type": "stream",
     "text": [
      "(9,)\n",
      "(3, 3)\n"
     ]
    }
   ],
   "source": [
    "# Mengetahui bentuk matriks\n",
    "print(mat1D.shape)\n",
    "print(mat2D.shape)"
   ]
  },
  {
   "cell_type": "code",
   "execution_count": 29,
   "id": "bf88221c-ac98-433f-9488-194e950069a6",
   "metadata": {},
   "outputs": [
    {
     "name": "stdout",
     "output_type": "stream",
     "text": [
      "9\n",
      "9\n"
     ]
    }
   ],
   "source": [
    "# Mengetahui ukuran dari matriks\n",
    "print(mat1D.size)\n",
    "print(mat2D.size)"
   ]
  },
  {
   "cell_type": "code",
   "execution_count": 65,
   "id": "66e1e659-9dcf-4ea2-af62-db11278f6241",
   "metadata": {},
   "outputs": [
    {
     "name": "stdout",
     "output_type": "stream",
     "text": [
      "Matriks mZero :\n",
      "[[0. 0. 0. 0. 0.]\n",
      " [0. 0. 0. 0. 0.]\n",
      " [0. 0. 0. 0. 0.]]\n",
      "\n",
      "Matriks mOne :\n",
      "[[1. 1. 1. 1.]\n",
      " [1. 1. 1. 1.]\n",
      " [1. 1. 1. 1.]\n",
      " [1. 1. 1. 1.]]\n",
      "\n",
      "Matriks mIdentity :\n",
      "[[1. 0. 0. 0. 0.]\n",
      " [0. 1. 0. 0. 0.]\n",
      " [0. 0. 1. 0. 0.]\n",
      " [0. 0. 0. 1. 0.]\n",
      " [0. 0. 0. 0. 1.]]\n",
      "\n",
      "Matriks mFull :\n",
      "[[7 7 7]\n",
      " [7 7 7]\n",
      " [7 7 7]]\n",
      "\n",
      "Matriks F1 random :\n",
      "[0.43256561 0.97655534 0.37150632 0.51907684 0.4268376 ]\n",
      "\n",
      "Matriks F2 random :\n",
      "[[0.82007074 0.919555   0.13902668 0.01847419 0.04898334]\n",
      " [0.19025785 0.34186958 0.53375586 0.8437699  0.83935275]\n",
      " [0.8661007  0.96392286 0.26863531 0.75560494 0.07337292]\n",
      " [0.30411514 0.37489135 0.79156897 0.51787868 0.4678629 ]\n",
      " [0.0986988  0.30414409 0.84573675 0.04520404 0.63561231]]\n",
      "\n",
      "Matriks I1 random :\n",
      "[92 10 56 11 24 95 55 35 91 89]\n",
      "\n",
      "Matriks I2 random :\n",
      "[[35 43 33 84]\n",
      " [85 70 70 33]\n",
      " [95 65  8 88]\n",
      " [17 47 33 80]]\n",
      "\n"
     ]
    }
   ],
   "source": [
    "# Special matriks\n",
    "mZero = np.zeros((3,5))  #matriks dengan nilai 0\n",
    "mOne = np.ones((4,4))    #matriks dengan nilai 1\n",
    "mIdentity = np.eye((5))  #matriks diagonal 1 lainnya 0\n",
    "mFull = np.full((3,3),7) #matriks dengan nilai yang sama\n",
    "mF1Random = np.random.rand(5) #matriks dengan nilai acak float 5 kolom\n",
    "mF2Random = np.random.rand(5,5) #matriks dengan nilai acak float 5*5\n",
    "mI1Random = np.random.randint(10,100,size=10)\n",
    "mI2Random = np.random.randint(1,100,size=(4,4))\n",
    "\n",
    "print(f\"Matriks mZero :\\n{mZero}\\n\")\n",
    "print(f\"Matriks mOne :\\n{mOne}\\n\")\n",
    "print(f\"Matriks mIdentity :\\n{mIdentity}\\n\")\n",
    "print(f\"Matriks mFull :\\n{mFull}\\n\")\n",
    "print(f\"Matriks F1 random :\\n{mF1Random}\\n\")\n",
    "print(f\"Matriks F2 random :\\n{mF2Random}\\n\")\n",
    "print(f\"Matriks I1 random :\\n{mI1Random}\\n\")\n",
    "print(f\"Matriks I2 random :\\n{mI2Random}\\n\")"
   ]
  },
  {
   "cell_type": "code",
   "execution_count": 81,
   "id": "8f378bb1-cb21-467b-b154-219b40191ca3",
   "metadata": {},
   "outputs": [
    {
     "name": "stdout",
     "output_type": "stream",
     "text": [
      "hasil perkalian dot product : 32\n",
      "hasil penjumlahan matriks :\n",
      "[5 7 9]\n",
      "hasil dot product dengan 3:\n",
      "[3 6 9]\n"
     ]
    }
   ],
   "source": [
    "# Aritmatic array\n",
    "x = np.array([1,2,3])\n",
    "y = np.array([4,5,6])\n",
    "r1 = np.dot(x,y) #perkalian dot product -> hasilnya adalah nilai skalar\n",
    "r2 = np.add(x,y) #penjumlahan matriks dimana ordonya harus sama\n",
    "r3 = np.dot(x,3)\n",
    "\n",
    "print(f\"hasil perkalian dot product : {r1}\")\n",
    "print(f\"hasil penjumlahan matriks :\\n{r2}\")\n",
    "print(f\"hasil dot product dengan 3:\\n{r3}\")"
   ]
  },
  {
   "cell_type": "code",
   "execution_count": 107,
   "id": "478f95d3-43aa-4ac8-8c7e-7f292a26bb30",
   "metadata": {},
   "outputs": [
    {
     "name": "stdout",
     "output_type": "stream",
     "text": [
      "Nilai pemrograman :\n",
      "[100  90  80  80  50  50  50  40]\n",
      "Nilai terkecil :\n",
      "40\n",
      "Nilai terbesar :\n",
      "100\n",
      "Nilai rata-rata :\n",
      "67.5\n",
      "Total nilai :\n",
      "540\n",
      "Nilai tengah :\n",
      "65.0\n",
      "Nilai deviasi :\n",
      "21.065374432940896\n",
      "\n",
      "[100  90  80  80]\n",
      "Jumlah mahasiswa yang lulus : 4\n"
     ]
    }
   ],
   "source": [
    "# Fungsi statistik dasar\n",
    "nilaiPemrograman = np.array([100,90,80,80,50,50,50,40])\n",
    "nilaiMin = np.min(nilaiPemrograman)\n",
    "nilaiMax = np.max(nilaiPemrograman)\n",
    "nilaiMean = np.mean(nilaiPemrograman)\n",
    "nilaiSum = np.sum(nilaiPemrograman)\n",
    "nilaiMedian = np.median(nilaiPemrograman)\n",
    "nilaiStd = np.std(nilaiPemrograman)\n",
    "\n",
    "print(f\"Nilai pemrograman :\\n{nilaiPemrograman}\")\n",
    "print(f\"Nilai terkecil :\\n{nilaiMin}\")\n",
    "print(f\"Nilai terbesar :\\n{nilaiMax}\")\n",
    "print(f\"Nilai rata-rata :\\n{nilaiMean}\")\n",
    "print(f\"Total nilai :\\n{nilaiSum}\")\n",
    "print(f\"Nilai tengah :\\n{nilaiMedian}\")\n",
    "print(f\"Nilai deviasi :\\n{nilaiStd}\")\n",
    "\n",
    "#Filtering\n",
    "#Mencari jumlah mahasiswa yang lulus -> nilai -> 50\n",
    "dataLulus = nilaiPemrograman[nilaiPemrograman > 50]\n",
    "print(f\"\\n{dataLulus}\")\n",
    "print(f\"Jumlah mahasiswa yang lulus : {dataLulus.size}\")"
   ]
  },
  {
   "cell_type": "code",
   "execution_count": null,
   "id": "4f7f8ac8-1db2-4730-844e-cfc68d51f7fe",
   "metadata": {},
   "outputs": [],
   "source": []
  }
 ],
 "metadata": {
  "kernelspec": {
   "display_name": "Python [conda env:base] *",
   "language": "python",
   "name": "conda-base-py"
  },
  "language_info": {
   "codemirror_mode": {
    "name": "ipython",
    "version": 3
   },
   "file_extension": ".py",
   "mimetype": "text/x-python",
   "name": "python",
   "nbconvert_exporter": "python",
   "pygments_lexer": "ipython3",
   "version": "3.12.7"
  }
 },
 "nbformat": 4,
 "nbformat_minor": 5
}
